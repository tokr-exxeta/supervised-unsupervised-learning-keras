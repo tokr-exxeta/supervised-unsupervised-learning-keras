{
 "cells": [
  {
   "cell_type": "markdown",
   "id": "b553940c",
   "metadata": {},
   "source": [
    "## Imports"
   ]
  },
  {
   "cell_type": "code",
   "execution_count": 1,
   "id": "3e6c8ad5",
   "metadata": {},
   "outputs": [],
   "source": [
    "import tensorflow as tf\n",
    "import numpy as np"
   ]
  },
  {
   "cell_type": "markdown",
   "id": "49c40285",
   "metadata": {},
   "source": [
    "Die folgende Übung soll Sie ein bisschen mit dem tensorflow und numpy package vertraut machen. Falls Sie eine Funktion oder Methode nachschauen wollen, können Sie im Vorschau Notebook oder direkt bei der tensorflow oder numpy Doku nachschauen\n",
    "tensorflow:https://www.tensorflow.org/api_docs/python/tf/all_symbols\n",
    "numpy: https://numpy.org/doc/stable/reference/generated/numpy.sum.html"
   ]
  },
  {
   "cell_type": "markdown",
   "id": "932a701a",
   "metadata": {},
   "source": [
    "### Überführen Sie folgende Tabelle in einen Tensor. Achten Sie dabei auf den geeigneten Datentyp"
   ]
  },
  {
   "cell_type": "markdown",
   "id": "dbe3fb48",
   "metadata": {},
   "source": [
    "|    |   Artikel |   Menge |   Preis |\n",
    "|---:|----------:|--------:|--------:|\n",
    "|  0 |         0 |       5 |    6.52 |\n",
    "|  1 |         1 |       2 |    4.3  |\n",
    "|  2 |         2 |       3 |    2.15 |\n",
    "|  3 |         3 |       4 |    1.75 |\n",
    "|  4 |         4 |       1 |    0.5  |"
   ]
  },
  {
   "cell_type": "code",
   "execution_count": 2,
   "id": "162f26cf",
   "metadata": {},
   "outputs": [],
   "source": [
    "liste = tf.constant([[0.,5.,6.52],[1.,2.,4.30],[2.,3.,2.15],[3.,4.,1.75],[4.,1.,0.5]])"
   ]
  },
  {
   "cell_type": "code",
   "execution_count": 3,
   "id": "005c238e",
   "metadata": {},
   "outputs": [
    {
     "data": {
      "text/plain": [
       "<tf.Tensor: shape=(5, 3), dtype=float32, numpy=\n",
       "array([[0.  , 5.  , 6.52],\n",
       "       [1.  , 2.  , 4.3 ],\n",
       "       [2.  , 3.  , 2.15],\n",
       "       [3.  , 4.  , 1.75],\n",
       "       [4.  , 1.  , 0.5 ]], dtype=float32)>"
      ]
     },
     "execution_count": 3,
     "metadata": {},
     "output_type": "execute_result"
    }
   ],
   "source": [
    "liste"
   ]
  },
  {
   "cell_type": "markdown",
   "id": "dc44bc0e",
   "metadata": {},
   "source": [
    "### Sie wollen nun den Gesamtumsatz aller Artikel Ihrer Liste berechnen. Nutzen Sie dafür entweder tensorflow oder numpy-Funktionalitäten"
   ]
  },
  {
   "cell_type": "code",
   "execution_count": 4,
   "id": "1e92c4df",
   "metadata": {},
   "outputs": [
    {
     "data": {
      "text/plain": [
       "55.15"
      ]
     },
     "execution_count": 4,
     "metadata": {},
     "output_type": "execute_result"
    }
   ],
   "source": [
    "round(np.sum((liste[:,1] * liste[:,2]).numpy()),2)"
   ]
  },
  {
   "cell_type": "markdown",
   "id": "6cda9b8a",
   "metadata": {},
   "source": [
    "### Ihr Preis ist nun um das doppelte gestiegen. Verrechnen Sie den Preisanstieg in Ihrem zuvor angelegten Tensor. Was ist nun das Problem?"
   ]
  },
  {
   "cell_type": "code",
   "execution_count": 5,
   "id": "c9955276",
   "metadata": {},
   "outputs": [
    {
     "data": {
      "text/plain": [
       "<tf.Tensor: shape=(5,), dtype=float32, numpy=array([13.04,  8.6 ,  4.3 ,  3.5 ,  1.  ], dtype=float32)>"
      ]
     },
     "execution_count": 5,
     "metadata": {},
     "output_type": "execute_result"
    }
   ],
   "source": [
    "liste[:,2]*2"
   ]
  },
  {
   "cell_type": "code",
   "execution_count": 6,
   "id": "5f90ac3e",
   "metadata": {},
   "outputs": [
    {
     "ename": "TypeError",
     "evalue": "'tensorflow.python.framework.ops.EagerTensor' object does not support item assignment",
     "output_type": "error",
     "traceback": [
      "\u001b[1;31m---------------------------------------------------------------------------\u001b[0m",
      "\u001b[1;31mTypeError\u001b[0m                                 Traceback (most recent call last)",
      "\u001b[1;32mc:\\Users\\tokr\\OneDrive - EXXETA\\GFU Python und Data Science Kurse\\GFU_Schulung_08_08_22\\supervised-unsupervised-learning-marvins-repo\\Lösung\\Übung_01_Einführung_tensorflow_numpy.ipynb Zelle 12\u001b[0m in \u001b[0;36m<cell line: 1>\u001b[1;34m()\u001b[0m\n\u001b[1;32m----> <a href='vscode-notebook-cell:/c%3A/Users/tokr/OneDrive%20-%20EXXETA/GFU%20Python%20und%20Data%20Science%20Kurse/GFU_Schulung_08_08_22/supervised-unsupervised-learning-marvins-repo/L%C3%B6sung/%C3%9Cbung_01_Einf%C3%BChrung_tensorflow_numpy.ipynb#ch0000011?line=0'>1</a>\u001b[0m liste[:,\u001b[39m2\u001b[39;49m] \u001b[39m=\u001b[39m liste[:,\u001b[39m2\u001b[39m]\u001b[39m*\u001b[39m\u001b[39m2\u001b[39m\n",
      "\u001b[1;31mTypeError\u001b[0m: 'tensorflow.python.framework.ops.EagerTensor' object does not support item assignment"
     ]
    }
   ],
   "source": [
    "liste[:,2] = liste[:,2]*2 ##nicht möglich, deswegen tf.Variable nötig"
   ]
  },
  {
   "cell_type": "code",
   "execution_count": 7,
   "id": "fe3ff004",
   "metadata": {},
   "outputs": [],
   "source": [
    "new_list = tf.Variable(liste)"
   ]
  },
  {
   "cell_type": "code",
   "execution_count": 8,
   "id": "6e68fee2",
   "metadata": {},
   "outputs": [
    {
     "data": {
      "text/plain": [
       "<tf.Variable 'UnreadVariable' shape=(5, 3) dtype=float32, numpy=\n",
       "array([[ 0.  ,  5.  , 13.04],\n",
       "       [ 1.  ,  2.  ,  8.6 ],\n",
       "       [ 2.  ,  3.  ,  4.3 ],\n",
       "       [ 3.  ,  4.  ,  3.5 ],\n",
       "       [ 4.  ,  1.  ,  1.  ]], dtype=float32)>"
      ]
     },
     "execution_count": 8,
     "metadata": {},
     "output_type": "execute_result"
    }
   ],
   "source": [
    "new_list[:,2].assign(new_list[:,2]*2)"
   ]
  },
  {
   "cell_type": "code",
   "execution_count": 9,
   "id": "e61736a4",
   "metadata": {},
   "outputs": [
    {
     "data": {
      "text/plain": [
       "<tf.Variable 'Variable:0' shape=(5, 3) dtype=float32, numpy=\n",
       "array([[ 0.  ,  5.  , 13.04],\n",
       "       [ 1.  ,  2.  ,  8.6 ],\n",
       "       [ 2.  ,  3.  ,  4.3 ],\n",
       "       [ 3.  ,  4.  ,  3.5 ],\n",
       "       [ 4.  ,  1.  ,  1.  ]], dtype=float32)>"
      ]
     },
     "execution_count": 9,
     "metadata": {},
     "output_type": "execute_result"
    }
   ],
   "source": [
    "new_list"
   ]
  },
  {
   "cell_type": "code",
   "execution_count": null,
   "id": "fe32e54a",
   "metadata": {},
   "outputs": [],
   "source": []
  }
 ],
 "metadata": {
  "kernelspec": {
   "display_name": "Python 3.9.12 ('tensorflow')",
   "language": "python",
   "name": "python3"
  },
  "language_info": {
   "codemirror_mode": {
    "name": "ipython",
    "version": 3
   },
   "file_extension": ".py",
   "mimetype": "text/x-python",
   "name": "python",
   "nbconvert_exporter": "python",
   "pygments_lexer": "ipython3",
   "version": "3.9.12"
  },
  "vscode": {
   "interpreter": {
    "hash": "a556c98edf2c5a3807e5c547e7b9b4eaf7a34f7f9898c366b34cd41a41f16e53"
   }
  }
 },
 "nbformat": 4,
 "nbformat_minor": 5
}
