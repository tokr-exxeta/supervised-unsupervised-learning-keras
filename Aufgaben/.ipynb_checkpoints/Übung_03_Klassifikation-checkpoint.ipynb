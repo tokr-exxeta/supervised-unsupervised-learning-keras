{
 "cells": [
  {
   "cell_type": "markdown",
   "id": "9e6a5f15",
   "metadata": {},
   "source": [
    "## Imports"
   ]
  },
  {
   "cell_type": "code",
   "execution_count": null,
   "id": "eb3728b0",
   "metadata": {},
   "outputs": [],
   "source": [
    "import tensorflow.keras as keras\n",
    "import pandas as pd\n",
    "import seaborn as sns\n",
    "import plotly.express as px\n",
    "from sklearn.model_selection import train_test_split\n",
    "from sklearn.preprocessing import StandardScaler, LabelEncoder"
   ]
  },
  {
   "cell_type": "markdown",
   "id": "eb2c06aa",
   "metadata": {},
   "source": [
    "## Daten einlesen"
   ]
  },
  {
   "cell_type": "code",
   "execution_count": null,
   "id": "02d6b68d",
   "metadata": {},
   "outputs": [],
   "source": [
    "iris = sns.load_dataset(\"iris\")"
   ]
  },
  {
   "cell_type": "code",
   "execution_count": null,
   "id": "a1f98e40",
   "metadata": {},
   "outputs": [],
   "source": [
    "iris"
   ]
  },
  {
   "cell_type": "code",
   "execution_count": null,
   "id": "bf4b482d",
   "metadata": {},
   "outputs": [],
   "source": [
    "px.scatter(iris,x=\"petal_length\",y=\"petal_width\",color=\"species\")"
   ]
  },
  {
   "cell_type": "markdown",
   "id": "0ba9befc",
   "metadata": {},
   "source": [
    "Führen Sie einen Train-Test Split aus. Übernehmen Sie hierfür species als target und fügen Sie die restlichen Spalten als Features ein."
   ]
  },
  {
   "cell_type": "code",
   "execution_count": null,
   "id": "395ed7c3",
   "metadata": {},
   "outputs": [],
   "source": [
    "X = ## Ihr Code\n",
    "y = ## Ihr Code"
   ]
  },
  {
   "cell_type": "markdown",
   "id": "b705bd93",
   "metadata": {},
   "source": [
    "Führen Sie nun ein LabelEncoding für Ihr Target und eine Z-Transformation für Ihre Features durch."
   ]
  },
  {
   "cell_type": "code",
   "execution_count": null,
   "id": "04ff4f5c",
   "metadata": {},
   "outputs": [],
   "source": [
    "## Ihr Code"
   ]
  },
  {
   "cell_type": "code",
   "execution_count": null,
   "id": "2ce5695a",
   "metadata": {},
   "outputs": [],
   "source": [
    "## Ihr Code"
   ]
  },
  {
   "cell_type": "code",
   "execution_count": null,
   "id": "5cf1307e",
   "metadata": {},
   "outputs": [],
   "source": [
    "X_train, X_test, y_train, y_test = train_test_split(X,y,test_size=0.2)"
   ]
  },
  {
   "cell_type": "markdown",
   "id": "fa1e191d",
   "metadata": {},
   "source": [
    "Bilden Sie nun das Sequentielle Modell. Wie vorher können Sie gerne den Code im Vorschau-Notebook nachschauen. Achten Sie auf die Änderung im Output-Layer (activation='softmax' statt 'linear'). Versuchen Sie die Anzahl Neuronen und Layer zu ändern bis Sie ca. auf eine Accuracy von 90% kommen."
   ]
  },
  {
   "cell_type": "code",
   "execution_count": null,
   "id": "5705d88b",
   "metadata": {},
   "outputs": [],
   "source": [
    "## Ihr Code"
   ]
  },
  {
   "cell_type": "code",
   "execution_count": null,
   "id": "1a8085b4",
   "metadata": {},
   "outputs": [],
   "source": [
    "model.compile(loss='sparse_categorical_crossentropy', optimizer=\"sgd\",metrics=[\"accuracy\"]) #learning rate by default = 0.01"
   ]
  },
  {
   "cell_type": "code",
   "execution_count": null,
   "id": "c73e28a9",
   "metadata": {},
   "outputs": [],
   "source": [
    "history = model.fit(X_train,y_train, batch_size=32, epochs=30, validation_split=0.2)"
   ]
  },
  {
   "cell_type": "code",
   "execution_count": null,
   "id": "a5df1296",
   "metadata": {},
   "outputs": [],
   "source": [
    "model.evaluate(X_test,y_test)"
   ]
  }
 ],
 "metadata": {
  "kernelspec": {
   "display_name": "Python 3",
   "language": "python",
   "name": "python3"
  },
  "language_info": {
   "codemirror_mode": {
    "name": "ipython",
    "version": 3
   },
   "file_extension": ".py",
   "mimetype": "text/x-python",
   "name": "python",
   "nbconvert_exporter": "python",
   "pygments_lexer": "ipython3",
   "version": "3.8.8"
  }
 },
 "nbformat": 4,
 "nbformat_minor": 5
}
