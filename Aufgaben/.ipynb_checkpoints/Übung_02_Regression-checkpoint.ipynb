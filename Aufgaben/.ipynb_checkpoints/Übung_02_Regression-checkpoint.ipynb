{
 "cells": [
  {
   "cell_type": "markdown",
   "id": "a7dab1b7",
   "metadata": {},
   "source": [
    "## Imports "
   ]
  },
  {
   "cell_type": "code",
   "execution_count": 1,
   "id": "3caeee74",
   "metadata": {},
   "outputs": [],
   "source": [
    "import pandas as pd\n",
    "import tensorflow.keras as keras\n",
    "import plotly.express as px\n",
    "from sklearn.model_selection import train_test_split\n",
    "from sklearn.preprocessing import LabelEncoder"
   ]
  },
  {
   "cell_type": "markdown",
   "id": "330929be",
   "metadata": {},
   "source": [
    "## Daten einlesen"
   ]
  },
  {
   "cell_type": "code",
   "execution_count": null,
   "id": "e4adc7ad",
   "metadata": {},
   "outputs": [],
   "source": [
    "sales_all = pd.read_csv(\"../Datasets/sales_all.csv\")"
   ]
  },
  {
   "cell_type": "code",
   "execution_count": null,
   "id": "60b7a08d",
   "metadata": {},
   "outputs": [],
   "source": [
    "sales_all"
   ]
  },
  {
   "cell_type": "markdown",
   "id": "3e9c4b9b",
   "metadata": {},
   "source": [
    "## Plot"
   ]
  },
  {
   "cell_type": "code",
   "execution_count": null,
   "id": "b41d2a79",
   "metadata": {},
   "outputs": [],
   "source": [
    "px.line(sales_all,x=\"date\",y=\"Sales\")"
   ]
  },
  {
   "cell_type": "markdown",
   "id": "8b7ec138",
   "metadata": {},
   "source": [
    "Wandeln Sie die Boolschen Features SchoolHoliday und Holiday in numerische Features um. Tipp: Benutzen Sie den LabelEncoder aus dem Vorschau Notebook dafür."
   ]
  },
  {
   "cell_type": "code",
   "execution_count": null,
   "id": "8576bfe3",
   "metadata": {},
   "outputs": [],
   "source": [
    "## Ihr Code"
   ]
  },
  {
   "cell_type": "markdown",
   "id": "8313f5eb",
   "metadata": {},
   "source": [
    "Wandeln Sie die kategorischen Features in numerische Features um, mithilfe von One-Hot-Encoding und weißen Sie Features der Variable X und target der Variable y zu. Tipp: pd.get_dummies()"
   ]
  },
  {
   "cell_type": "code",
   "execution_count": null,
   "id": "1a58a62f",
   "metadata": {},
   "outputs": [],
   "source": [
    "X = ##Ihr Code\n",
    "y = ##Ihr Code"
   ]
  },
  {
   "cell_type": "code",
   "execution_count": null,
   "id": "47ef272e",
   "metadata": {},
   "outputs": [],
   "source": [
    "X_train,X_test, y_train, y_test = train_test_split(X,y,test_size=0.2)"
   ]
  },
  {
   "cell_type": "markdown",
   "id": "285af79d",
   "metadata": {},
   "source": [
    "Bilden Sie nun ein Sequentielles Modell mit 1 Input-Layer, 2 Hidden-Layern und 1 Output-Layer. Haben Sie sich noch behalten wie der Code dazu aussieht? Kein Problem: Sie können natürlich im Vorschau Notebook spicken ;D"
   ]
  },
  {
   "cell_type": "code",
   "execution_count": null,
   "id": "47f73b16",
   "metadata": {},
   "outputs": [],
   "source": [
    "## Ihr Code"
   ]
  },
  {
   "cell_type": "code",
   "execution_count": null,
   "id": "2409c4e3",
   "metadata": {},
   "outputs": [],
   "source": [
    "model.compile(\n",
    "    optimizer=keras.optimizers.SGD(learning_rate=5e-4), \n",
    "    loss=keras.losses.MeanSquaredError(), \n",
    "    metrics=keras.losses.MeanAbsoluteError(), \n",
    ")"
   ]
  },
  {
   "cell_type": "code",
   "execution_count": null,
   "id": "0d208b34",
   "metadata": {},
   "outputs": [],
   "source": [
    "history = model.fit(x=X_train, y=y_train, batch_size=32, epochs=30, validation_split=0.2)"
   ]
  },
  {
   "cell_type": "code",
   "execution_count": null,
   "id": "bd0dff59",
   "metadata": {},
   "outputs": [],
   "source": [
    "import pandas as pd\n",
    "import matplotlib.pyplot as plt\n",
    "\n",
    "pd.DataFrame(history.history).plot(figsize=(8,5))\n",
    "plt.grid(True)\n",
    "plt.gca() #set the vertical range \n",
    "plt.show()"
   ]
  },
  {
   "cell_type": "markdown",
   "id": "6c9d669f",
   "metadata": {},
   "source": [
    "Schauen Sie sich die Evaluierung Ihrer Testdaten an und geben Sie eine kurze Beurteilung ab"
   ]
  },
  {
   "cell_type": "code",
   "execution_count": null,
   "id": "4f757186",
   "metadata": {},
   "outputs": [],
   "source": [
    "model.evaluate(X_test,y_test)"
   ]
  }
 ],
 "metadata": {
  "kernelspec": {
   "display_name": "Python 3",
   "language": "python",
   "name": "python3"
  },
  "language_info": {
   "codemirror_mode": {
    "name": "ipython",
    "version": 3
   },
   "file_extension": ".py",
   "mimetype": "text/x-python",
   "name": "python",
   "nbconvert_exporter": "python",
   "pygments_lexer": "ipython3",
   "version": "3.8.8"
  }
 },
 "nbformat": 4,
 "nbformat_minor": 5
}
