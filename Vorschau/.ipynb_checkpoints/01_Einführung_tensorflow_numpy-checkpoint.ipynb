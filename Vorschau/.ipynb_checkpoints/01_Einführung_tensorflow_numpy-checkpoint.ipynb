{
 "cells": [
  {
   "cell_type": "markdown",
   "id": "e36170a5",
   "metadata": {},
   "source": [
    "## Einführung tensorflow/numpy\n",
    "Dieses Notebook gibt eine kleine Einführung in die packages tensorflow und numpy"
   ]
  },
  {
   "cell_type": "markdown",
   "id": "2d91a9d0",
   "metadata": {},
   "source": [
    "## Imports"
   ]
  },
  {
   "cell_type": "code",
   "execution_count": 1,
   "id": "4a27d28f",
   "metadata": {},
   "outputs": [],
   "source": [
    "import tensorflow as tf\n",
    "import numpy as np"
   ]
  },
  {
   "cell_type": "markdown",
   "id": "af655a2e",
   "metadata": {},
   "source": [
    "### Erstellen eines Tensors mit tf.constant"
   ]
  },
  {
   "cell_type": "code",
   "execution_count": 4,
   "id": "1257cbe4",
   "metadata": {},
   "outputs": [],
   "source": [
    "m = tf.constant([[1,2,3],[4,5,6]]) # Rank2"
   ]
  },
  {
   "cell_type": "code",
   "execution_count": 5,
   "id": "5c1ebbae",
   "metadata": {},
   "outputs": [
    {
     "data": {
      "text/plain": [
       "<tf.Tensor: shape=(2, 3), dtype=int32, numpy=\n",
       "array([[1, 2, 3],\n",
       "       [4, 5, 6]])>"
      ]
     },
     "execution_count": 5,
     "metadata": {},
     "output_type": "execute_result"
    }
   ],
   "source": [
    "m # sowohl shape \"2 rows, 3 columns\", als auch numpy representation wird angezeigt, ebenso wie Datentyp"
   ]
  },
  {
   "cell_type": "code",
   "execution_count": 6,
   "id": "5d563885",
   "metadata": {},
   "outputs": [
    {
     "data": {
      "text/plain": [
       "<tf.Tensor: shape=(), dtype=int32, numpy=42>"
      ]
     },
     "execution_count": 6,
     "metadata": {},
     "output_type": "execute_result"
    }
   ],
   "source": [
    "tf.constant(42) # Skalar (Rank 0)"
   ]
  },
  {
   "cell_type": "code",
   "execution_count": 7,
   "id": "676441c4",
   "metadata": {},
   "outputs": [
    {
     "data": {
      "text/plain": [
       "TensorShape([2, 3])"
      ]
     },
     "execution_count": 7,
     "metadata": {},
     "output_type": "execute_result"
    }
   ],
   "source": [
    "#Abfragen des shapes und Datentyps\n",
    "m.shape"
   ]
  },
  {
   "cell_type": "code",
   "execution_count": 8,
   "id": "1e711670",
   "metadata": {},
   "outputs": [
    {
     "data": {
      "text/plain": [
       "tf.int32"
      ]
     },
     "execution_count": 8,
     "metadata": {},
     "output_type": "execute_result"
    }
   ],
   "source": [
    "m.dtype #Wichtig, da alles Einträge den gleichen Datentyp haben müssen"
   ]
  },
  {
   "cell_type": "code",
   "execution_count": 10,
   "id": "19a8d0b7",
   "metadata": {},
   "outputs": [
    {
     "data": {
      "text/plain": [
       "<tf.Tensor: shape=(3,), dtype=int32, numpy=array([1, 2, 3])>"
      ]
     },
     "execution_count": 10,
     "metadata": {},
     "output_type": "execute_result"
    }
   ],
   "source": [
    "#Indexing\n",
    "m[:,1] #Alle Zeilen Spalte 1\n",
    "m[0,:] #Erste Zeile alle Spalten"
   ]
  },
  {
   "cell_type": "markdown",
   "id": "9db66b92",
   "metadata": {},
   "source": [
    "### Rechenoperationen"
   ]
  },
  {
   "cell_type": "code",
   "execution_count": 11,
   "id": "3301972e",
   "metadata": {},
   "outputs": [],
   "source": [
    "t= tf.constant([[1,2,3],[4,5,6]])"
   ]
  },
  {
   "cell_type": "code",
   "execution_count": 12,
   "id": "5aaa3888",
   "metadata": {},
   "outputs": [
    {
     "data": {
      "text/plain": [
       "<tf.Tensor: shape=(2, 3), dtype=int32, numpy=\n",
       "array([[11, 12, 13],\n",
       "       [14, 15, 16]])>"
      ]
     },
     "execution_count": 12,
     "metadata": {},
     "output_type": "execute_result"
    }
   ],
   "source": [
    "t+10 #Summe --> tf.add(t,10) oder tf.math.add()"
   ]
  },
  {
   "cell_type": "code",
   "execution_count": 14,
   "id": "c3ce06d3",
   "metadata": {},
   "outputs": [
    {
     "data": {
      "text/plain": [
       "<tf.Tensor: shape=(2, 3), dtype=int32, numpy=\n",
       "array([[ 1,  4,  9],\n",
       "       [16, 25, 36]])>"
      ]
     },
     "execution_count": 14,
     "metadata": {},
     "output_type": "execute_result"
    }
   ],
   "source": [
    "tf.square(t) #Potenzieren mit 2"
   ]
  },
  {
   "cell_type": "code",
   "execution_count": 16,
   "id": "fff8c9a3",
   "metadata": {},
   "outputs": [
    {
     "data": {
      "text/plain": [
       "<tf.Tensor: shape=(2, 3), dtype=int32, numpy=\n",
       "array([[1, 2, 3],\n",
       "       [4, 5, 6]])>"
      ]
     },
     "execution_count": 16,
     "metadata": {},
     "output_type": "execute_result"
    }
   ],
   "source": [
    "t"
   ]
  },
  {
   "cell_type": "code",
   "execution_count": 17,
   "id": "b11fc756",
   "metadata": {},
   "outputs": [
    {
     "data": {
      "text/plain": [
       "<tf.Tensor: shape=(2, 2), dtype=int32, numpy=\n",
       "array([[14, 32],\n",
       "       [32, 77]])>"
      ]
     },
     "execution_count": 17,
     "metadata": {},
     "output_type": "execute_result"
    }
   ],
   "source": [
    "t @ tf.transpose(t)"
   ]
  },
  {
   "cell_type": "code",
   "execution_count": 18,
   "id": "b756d7a4",
   "metadata": {},
   "outputs": [],
   "source": [
    "f = tf.constant([[12,15,32],[1,2,3]])"
   ]
  },
  {
   "cell_type": "code",
   "execution_count": 19,
   "id": "639edf27",
   "metadata": {},
   "outputs": [
    {
     "data": {
      "text/plain": [
       "<tf.Tensor: shape=(2, 2), dtype=int32, numpy=\n",
       "array([[1393,  138],\n",
       "       [ 138,   14]])>"
      ]
     },
     "execution_count": 19,
     "metadata": {},
     "output_type": "execute_result"
    }
   ],
   "source": [
    "f @ tf.transpose(f) #Matrixmultiplikation zwischen der ursprünglichen und transponierten Matrix"
   ]
  },
  {
   "cell_type": "code",
   "execution_count": 21,
   "id": "23684524",
   "metadata": {},
   "outputs": [
    {
     "data": {
      "text/plain": [
       "<tf.Tensor: shape=(2, 3), dtype=int32, numpy=\n",
       "array([[12, 15, 32],\n",
       "       [ 1,  2,  3]])>"
      ]
     },
     "execution_count": 21,
     "metadata": {},
     "output_type": "execute_result"
    }
   ],
   "source": [
    "f"
   ]
  },
  {
   "cell_type": "code",
   "execution_count": 20,
   "id": "813487a6",
   "metadata": {},
   "outputs": [
    {
     "data": {
      "text/plain": [
       "<tf.Tensor: shape=(3, 2), dtype=int32, numpy=\n",
       "array([[12,  1],\n",
       "       [15,  2],\n",
       "       [32,  3]])>"
      ]
     },
     "execution_count": 20,
     "metadata": {},
     "output_type": "execute_result"
    }
   ],
   "source": [
    "tf.transpose(f)"
   ]
  },
  {
   "cell_type": "code",
   "execution_count": null,
   "id": "dfccdee2",
   "metadata": {},
   "outputs": [],
   "source": [
    "### Type conversion"
   ]
  },
  {
   "cell_type": "code",
   "execution_count": null,
   "id": "19e3bb2f",
   "metadata": {},
   "outputs": [],
   "source": [
    "f + 1.0 ## Error"
   ]
  },
  {
   "cell_type": "code",
   "execution_count": 47,
   "id": "5f230561",
   "metadata": {},
   "outputs": [
    {
     "data": {
      "text/plain": [
       "<tf.Tensor: shape=(2, 3), dtype=int32, numpy=\n",
       "array([[12, 15, 32],\n",
       "       [ 1,  2,  3]])>"
      ]
     },
     "execution_count": 47,
     "metadata": {},
     "output_type": "execute_result"
    }
   ],
   "source": [
    "f"
   ]
  },
  {
   "cell_type": "code",
   "execution_count": 50,
   "id": "9273c754",
   "metadata": {},
   "outputs": [
    {
     "data": {
      "text/plain": [
       "<tf.Tensor: shape=(2, 3), dtype=float32, numpy=\n",
       "array([[13., 16., 33.],\n",
       "       [ 2.,  3.,  4.]], dtype=float32)>"
      ]
     },
     "execution_count": 50,
     "metadata": {},
     "output_type": "execute_result"
    }
   ],
   "source": [
    "tf.cast(f,tf.float32) + 1.0"
   ]
  },
  {
   "cell_type": "code",
   "execution_count": 46,
   "id": "d081febc",
   "metadata": {},
   "outputs": [
    {
     "data": {
      "text/plain": [
       "<tf.Variable 'Variable:0' shape=() dtype=int32, numpy=10>"
      ]
     },
     "execution_count": 46,
     "metadata": {},
     "output_type": "execute_result"
    }
   ],
   "source": [
    "### Important --> Tensors with tf.constant are immutable, this means they can't be modified. \n",
    "### Instead you need a tf.Variable (for example for custom metrics or weights in a neural network)\n",
    "v = tf.Variable(5)\n",
    "v.assign(2*v)\n",
    "v"
   ]
  },
  {
   "cell_type": "markdown",
   "id": "bf0824e2",
   "metadata": {},
   "source": [
    "### numpy"
   ]
  },
  {
   "cell_type": "code",
   "execution_count": 38,
   "id": "5e79029c",
   "metadata": {},
   "outputs": [],
   "source": [
    "a = np.array([[2,4,5],[5,6,7]],dtype=\"int\") #mit dtype Zuweisung"
   ]
  },
  {
   "cell_type": "code",
   "execution_count": 40,
   "id": "d08d6a4f",
   "metadata": {},
   "outputs": [
    {
     "data": {
      "text/plain": [
       "array([4, 6])"
      ]
     },
     "execution_count": 40,
     "metadata": {},
     "output_type": "execute_result"
    }
   ],
   "source": [
    "a[:,1]"
   ]
  },
  {
   "cell_type": "code",
   "execution_count": 41,
   "id": "1a1c8e7c",
   "metadata": {},
   "outputs": [
    {
     "data": {
      "text/plain": [
       "numpy.ndarray"
      ]
     },
     "execution_count": 41,
     "metadata": {},
     "output_type": "execute_result"
    }
   ],
   "source": [
    "type(a)"
   ]
  },
  {
   "cell_type": "code",
   "execution_count": 42,
   "id": "f33b9812",
   "metadata": {},
   "outputs": [],
   "source": [
    "tensor = tf.constant(a)"
   ]
  },
  {
   "cell_type": "code",
   "execution_count": 43,
   "id": "32e0dca8",
   "metadata": {},
   "outputs": [
    {
     "data": {
      "text/plain": [
       "numpy.ndarray"
      ]
     },
     "execution_count": 43,
     "metadata": {},
     "output_type": "execute_result"
    }
   ],
   "source": [
    "type(tensor.numpy())"
   ]
  },
  {
   "cell_type": "code",
   "execution_count": 44,
   "id": "c397f691",
   "metadata": {},
   "outputs": [
    {
     "data": {
      "text/plain": [
       "<tf.Tensor: shape=(2, 3), dtype=int32, numpy=\n",
       "array([[ 4, 16, 25],\n",
       "       [25, 36, 49]])>"
      ]
     },
     "execution_count": 44,
     "metadata": {},
     "output_type": "execute_result"
    }
   ],
   "source": [
    "tf.square(tensor)"
   ]
  },
  {
   "cell_type": "code",
   "execution_count": 45,
   "id": "d22dac69",
   "metadata": {},
   "outputs": [
    {
     "data": {
      "text/plain": [
       "<tf.Tensor: shape=(2,), dtype=int32, numpy=array([4, 6])>"
      ]
     },
     "execution_count": 45,
     "metadata": {},
     "output_type": "execute_result"
    }
   ],
   "source": [
    "tensor[:,1]"
   ]
  },
  {
   "cell_type": "code",
   "execution_count": 36,
   "id": "7f654b29",
   "metadata": {},
   "outputs": [
    {
     "data": {
      "text/plain": [
       "array([ 4, 16, 25], dtype=int32)"
      ]
     },
     "execution_count": 36,
     "metadata": {},
     "output_type": "execute_result"
    }
   ],
   "source": [
    "np.square(tensor.numpy())"
   ]
  }
 ],
 "metadata": {
  "kernelspec": {
   "display_name": "Python 3",
   "language": "python",
   "name": "python3"
  },
  "language_info": {
   "codemirror_mode": {
    "name": "ipython",
    "version": 3
   },
   "file_extension": ".py",
   "mimetype": "text/x-python",
   "name": "python",
   "nbconvert_exporter": "python",
   "pygments_lexer": "ipython3",
   "version": "3.8.8"
  }
 },
 "nbformat": 4,
 "nbformat_minor": 5
}
