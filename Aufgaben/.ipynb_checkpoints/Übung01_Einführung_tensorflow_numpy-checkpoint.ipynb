{
 "cells": [
  {
   "cell_type": "markdown",
   "id": "b8855a04",
   "metadata": {},
   "source": [
    "## Imports"
   ]
  },
  {
   "cell_type": "code",
   "execution_count": 1,
   "id": "3dd66fff",
   "metadata": {},
   "outputs": [],
   "source": [
    "import tensorflow as tf\n",
    "import numpy as np"
   ]
  },
  {
   "cell_type": "markdown",
   "id": "1298fff0",
   "metadata": {},
   "source": [
    "Die folgende Übung soll Sie ein bisschen mit dem tensorflow und numpy package vertraut machen. Falls Sie eine Funktion oder Methode nachschauen wollen können Sie im Vorschau Notebook oder direkt bei der tensorflow oder numpy Doku nachschauen\n",
    "tensorflow:https://www.tensorflow.org/api_docs/python/tf/all_symbols\n",
    "numpy: https://numpy.org/doc/stable/reference/generated/numpy.sum.html"
   ]
  },
  {
   "cell_type": "markdown",
   "id": "8dd25863",
   "metadata": {},
   "source": [
    "### Überführen Sie folgende Tabelle in einen Tensor. Achten Sie dabei auf den geeigneten Datentyp"
   ]
  },
  {
   "cell_type": "markdown",
   "id": "4227588c",
   "metadata": {},
   "source": [
    "![title](../Bilder/Tabelle1.png)"
   ]
  },
  {
   "cell_type": "code",
   "execution_count": 8,
   "id": "46518b38",
   "metadata": {},
   "outputs": [],
   "source": [
    "## Ihr Code"
   ]
  },
  {
   "cell_type": "markdown",
   "id": "fda3394e",
   "metadata": {},
   "source": [
    "### Sie wollen nun den Gesamtumsatz aller Artikel Ihrer Liste berechnen. Nutzen Sie dafür entweder tensorflow oder numpy-Funktionalitäten"
   ]
  },
  {
   "cell_type": "code",
   "execution_count": 1,
   "id": "e9f3ff86",
   "metadata": {},
   "outputs": [],
   "source": [
    "## Ihr Code"
   ]
  },
  {
   "cell_type": "markdown",
   "id": "d9255ee7",
   "metadata": {},
   "source": [
    "### Ihr Preis ist nun um das doppelte gestiegen. Verrechnen Sie den Preisanstieg in Ihrem zuvor angelegten Tensor. Was ist nun das Problem?"
   ]
  },
  {
   "cell_type": "code",
   "execution_count": null,
   "id": "64eada03",
   "metadata": {},
   "outputs": [],
   "source": [
    "## Ihr Code"
   ]
  }
 ],
 "metadata": {
  "kernelspec": {
   "display_name": "Python 3",
   "language": "python",
   "name": "python3"
  },
  "language_info": {
   "codemirror_mode": {
    "name": "ipython",
    "version": 3
   },
   "file_extension": ".py",
   "mimetype": "text/x-python",
   "name": "python",
   "nbconvert_exporter": "python",
   "pygments_lexer": "ipython3",
   "version": "3.8.8"
  }
 },
 "nbformat": 4,
 "nbformat_minor": 5
}
