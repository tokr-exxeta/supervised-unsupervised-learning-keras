{
 "cells": [
  {
   "cell_type": "markdown",
   "id": "b759d53d",
   "metadata": {},
   "source": [
    "## Imports"
   ]
  },
  {
   "cell_type": "code",
   "execution_count": null,
   "id": "75aa453e",
   "metadata": {},
   "outputs": [],
   "source": [
    "import pandas as pd\n",
    "import tensorflow.keras as keras\n",
    "import matplotlib as mpl\n",
    "import matplotlib.pyplot as plt\n",
    "import seaborn as sns\n",
    "from sklearn.model_selection import train_test_split\n",
    "from sklearn.preprocessing import LabelEncoder"
   ]
  },
  {
   "cell_type": "code",
   "execution_count": null,
   "id": "68f8c3fc",
   "metadata": {},
   "outputs": [],
   "source": [
    "%matplotlib inline\n",
    "plt.rc('font', size=16)\n",
    "mpl.rcParams['figure.facecolor'] = 'white'"
   ]
  },
  {
   "cell_type": "code",
   "execution_count": null,
   "id": "b8da4ad2",
   "metadata": {},
   "outputs": [],
   "source": [
    "def plot_results(epochs, history, metric='mean_absolute_error'):\n",
    "    plt.figure(figsize=(10, 6))\n",
    "    sns.lineplot(x=range(epochs), y=history.history['loss'], label='train_loss')\n",
    "    sns.lineplot(x=range(epochs), y=history.history['val_loss'], label='val_loss')\n",
    "    plt.show()\n",
    "\n",
    "    plt.figure(figsize=(10, 6))\n",
    "    sns.lineplot(x=range(epochs), y=history.history[metric], label=f'Train {metric}')\n",
    "    sns.lineplot(x=range(epochs), y=history.history[f'val_{metric}'], label=f'Validation {metric}')\n",
    "    plt.show()"
   ]
  },
  {
   "cell_type": "markdown",
   "id": "ffafa010",
   "metadata": {},
   "source": [
    "## Daten einlesen"
   ]
  },
  {
   "cell_type": "code",
   "execution_count": null,
   "id": "1b6610d5",
   "metadata": {},
   "outputs": [],
   "source": [
    "sales_all = pd.read_csv(\"../Datasets/sales_all.csv\")"
   ]
  },
  {
   "cell_type": "code",
   "execution_count": null,
   "id": "b002aa9e",
   "metadata": {},
   "outputs": [],
   "source": [
    "sales_all"
   ]
  },
  {
   "cell_type": "markdown",
   "id": "31d44118",
   "metadata": {},
   "source": [
    "## Plot"
   ]
  },
  {
   "cell_type": "code",
   "execution_count": null,
   "id": "7261892a",
   "metadata": {},
   "outputs": [],
   "source": [
    "x_ticks = ['2012-01-01', '2013-01-01', '2014-01-01', '2015-01-01', '2016-01-01', '2017-01-01']\n",
    "plt.figure(figsize=(24, 8))\n",
    "sns.lineplot(data=sales_all, x=\"date\", y=\"Sales\")\n",
    "plt.xticks(x_ticks)\n",
    "plt.grid(True)\n",
    "plt.show()"
   ]
  },
  {
   "cell_type": "markdown",
   "id": "806e1160",
   "metadata": {},
   "source": [
    "Wandeln Sie die Boolschen Features SchoolHoliday und Holiday in numerische Features um. Tipp: Benutzen Sie den LabelEncoder aus dem Vorschau Notebook dafür."
   ]
  },
  {
   "cell_type": "code",
   "execution_count": null,
   "id": "8be6042a",
   "metadata": {},
   "outputs": [],
   "source": [
    "# Code"
   ]
  },
  {
   "cell_type": "markdown",
   "id": "36fca118",
   "metadata": {},
   "source": [
    "Wandeln Sie die kategorischen Features in numerische Features um, mithilfe von One-Hot-Encoding und weißen Sie Features der Variable X und target der Variable y zu. Tipp: pd.get_dummies()"
   ]
  },
  {
   "cell_type": "code",
   "execution_count": null,
   "id": "88688065",
   "metadata": {},
   "outputs": [],
   "source": [
    "X = # Code\n",
    "y = # Code"
   ]
  },
  {
   "cell_type": "code",
   "execution_count": null,
   "id": "12ae2927",
   "metadata": {},
   "outputs": [],
   "source": [
    "X_train,X_test, y_train, y_test = train_test_split(X, y, test_size=0.2)"
   ]
  },
  {
   "cell_type": "markdown",
   "id": "729b7356",
   "metadata": {},
   "source": [
    "Bilden Sie nun ein Sequentielles Modell mit 1 Input-Layer, 2 Hidden-Layern und 1 Output-Layer."
   ]
  },
  {
   "cell_type": "code",
   "execution_count": null,
   "id": "3ee83086",
   "metadata": {},
   "outputs": [],
   "source": [
    "model = # Code"
   ]
  },
  {
   "cell_type": "code",
   "execution_count": null,
   "id": "f0b98012",
   "metadata": {},
   "outputs": [],
   "source": [
    "LR = 5e-4\n",
    "BATCHSIZE = 32\n",
    "EPOCHS = 30"
   ]
  },
  {
   "cell_type": "code",
   "execution_count": null,
   "id": "1f1226d7",
   "metadata": {},
   "outputs": [],
   "source": [
    "model.compile(\n",
    "    optimizer=keras.optimizers.SGD(learning_rate=LR), ##SGD = Stochastic Gradient Descent\n",
    "    loss=keras.losses.MeanSquaredError(), ## Wird als Metrik für das Netzwerk verwendet um Error zu berechnen\n",
    "    metrics=keras.losses.MeanAbsoluteError(), ## Nur für Monitoring, intern wird nichts mit diesem Wert gemacht\n",
    ")"
   ]
  },
  {
   "cell_type": "code",
   "execution_count": null,
   "id": "fbe2ee21",
   "metadata": {},
   "outputs": [],
   "source": [
    "model.summary()"
   ]
  },
  {
   "cell_type": "code",
   "execution_count": null,
   "id": "24573f8e",
   "metadata": {},
   "outputs": [],
   "source": [
    "history = model.fit(x=X_train, y=y_train, batch_size=BATCHSIZE, epochs=EPOCHS, validation_split=0.2)"
   ]
  },
  {
   "cell_type": "code",
   "execution_count": null,
   "id": "cf587e38",
   "metadata": {},
   "outputs": [],
   "source": [
    "plot_results(EPOCHS, history)"
   ]
  },
  {
   "cell_type": "markdown",
   "id": "319a407f",
   "metadata": {},
   "source": [
    "Schauen Sie sich die Evaluierung Ihrer Testdaten an und geben Sie eine kurze Beurteilung ab"
   ]
  },
  {
   "cell_type": "code",
   "execution_count": null,
   "id": "8c79f8b4",
   "metadata": {},
   "outputs": [],
   "source": [
    "model.evaluate(X_test,y_test)"
   ]
  },
  {
   "cell_type": "code",
   "execution_count": null,
   "id": "b8da4ad2",
   "metadata": {},
   "outputs": [],
   "source": []
  }
 ],
 "metadata": {
  "kernelspec": {
   "display_name": "Python 3.9.12 ('tensorflow')",
   "language": "python",
   "name": "python3"
  },
  "language_info": {
   "codemirror_mode": {
    "name": "ipython",
    "version": 3
   },
   "file_extension": ".py",
   "mimetype": "text/x-python",
   "name": "python",
   "nbconvert_exporter": "python",
   "pygments_lexer": "ipython3",
   "version": "3.9.12"
  },
  "vscode": {
   "interpreter": {
    "hash": "a556c98edf2c5a3807e5c547e7b9b4eaf7a34f7f9898c366b34cd41a41f16e53"
   }
  }
 },
 "nbformat": 4,
 "nbformat_minor": 5
}
