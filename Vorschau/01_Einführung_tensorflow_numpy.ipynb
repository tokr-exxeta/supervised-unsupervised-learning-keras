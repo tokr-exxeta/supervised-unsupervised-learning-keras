{
 "cells": [
  {
   "cell_type": "markdown",
   "id": "e36170a5",
   "metadata": {},
   "source": [
    "# Einführung tensorflow/numpy\n",
    "Dieses Notebook gibt eine kleine Einführung in die packages tensorflow und numpy"
   ]
  },
  {
   "cell_type": "markdown",
   "id": "2d91a9d0",
   "metadata": {},
   "source": [
    "## Imports"
   ]
  },
  {
   "cell_type": "code",
   "execution_count": 1,
   "id": "4a27d28f",
   "metadata": {},
   "outputs": [],
   "source": [
    "import tensorflow as tf\n",
    "import numpy as np"
   ]
  },
  {
   "cell_type": "markdown",
   "id": "bf0824e2",
   "metadata": {},
   "source": [
    "## numpy"
   ]
  },
  {
   "cell_type": "code",
   "execution_count": null,
   "id": "5e79029c",
   "metadata": {},
   "outputs": [],
   "source": [
    "a = np.array([[2,4,5],[5,6,7]],dtype=\"int\")  # mit dtype Zuweisung"
   ]
  },
  {
   "cell_type": "code",
   "execution_count": null,
   "id": "d08d6a4f",
   "metadata": {},
   "outputs": [
    {
     "data": {
      "text/plain": [
       "array([4, 6])"
      ]
     },
     "metadata": {},
     "output_type": "display_data"
    }
   ],
   "source": [
    "a[:,1]"
   ]
  },
  {
   "cell_type": "code",
   "execution_count": null,
   "id": "1a1c8e7c",
   "metadata": {},
   "outputs": [
    {
     "data": {
      "text/plain": [
       "numpy.ndarray"
      ]
     },
     "metadata": {},
     "output_type": "display_data"
    }
   ],
   "source": [
    "type(a)"
   ]
  },
  {
   "cell_type": "markdown",
   "id": "fd3311e7",
   "metadata": {},
   "source": [
    "### Umwandlung von tf Tensor zu numpy Array"
   ]
  },
  {
   "cell_type": "code",
   "execution_count": null,
   "id": "f33b9812",
   "metadata": {},
   "outputs": [],
   "source": [
    "tensor = tf.constant(a)"
   ]
  },
  {
   "cell_type": "code",
   "execution_count": null,
   "id": "32e0dca8",
   "metadata": {},
   "outputs": [
    {
     "data": {
      "text/plain": [
       "numpy.ndarray"
      ]
     },
     "metadata": {},
     "output_type": "display_data"
    }
   ],
   "source": [
    "type(tensor.numpy())"
   ]
  },
  {
   "cell_type": "code",
   "execution_count": null,
   "id": "7f654b29",
   "metadata": {},
   "outputs": [
    {
     "data": {
      "text/plain": [
       "array([ 4, 16, 25], dtype=int32)"
      ]
     },
     "metadata": {},
     "output_type": "display_data"
    }
   ],
   "source": [
    "np.square(tensor.numpy())"
   ]
  },
  {
   "cell_type": "markdown",
   "id": "83b9ccfd",
   "metadata": {},
   "source": [
    "## tensorflow"
   ]
  },
  {
   "cell_type": "markdown",
   "id": "6fd09284",
   "metadata": {},
   "source": [
    "### Das Tensorformat"
   ]
  },
  {
   "cell_type": "markdown",
   "id": "d4e6369a",
   "metadata": {},
   "source": [
    "Erstellen eines Tensors mit `tf.constant`"
   ]
  },
  {
   "cell_type": "code",
   "execution_count": 2,
   "id": "1257cbe4",
   "metadata": {},
   "outputs": [],
   "source": [
    "m = tf.constant([[1,2,3],[4,5,6]]) # Rank2"
   ]
  },
  {
   "cell_type": "markdown",
   "id": "86decdd1",
   "metadata": {},
   "source": [
    "Sowohl shape (2 rows, 3 columns), numpy Representation also auch der Datentyp werden angezeigt"
   ]
  },
  {
   "cell_type": "code",
   "execution_count": 4,
   "id": "5c1ebbae",
   "metadata": {},
   "outputs": [
    {
     "name": "stdout",
     "output_type": "stream",
     "text": [
      "tf.Tensor(\n",
      "[[1 2 3]\n",
      " [4 5 6]], shape=(2, 3), dtype=int32)\n"
     ]
    }
   ],
   "source": [
    "print(m) "
   ]
  },
  {
   "cell_type": "markdown",
   "id": "d02ed414",
   "metadata": {},
   "source": [
    "Skalar (Rank 0)"
   ]
  },
  {
   "cell_type": "code",
   "execution_count": 3,
   "id": "5d563885",
   "metadata": {},
   "outputs": [
    {
     "data": {
      "text/plain": [
       "<tf.Tensor: shape=(), dtype=int32, numpy=42>"
      ]
     },
     "execution_count": 3,
     "metadata": {},
     "output_type": "execute_result"
    }
   ],
   "source": [
    "tf.constant(42)"
   ]
  },
  {
   "cell_type": "markdown",
   "id": "c831a2c6",
   "metadata": {},
   "source": [
    "Abfragen der Shape"
   ]
  },
  {
   "cell_type": "code",
   "execution_count": 7,
   "id": "676441c4",
   "metadata": {},
   "outputs": [
    {
     "data": {
      "text/plain": [
       "TensorShape([2, 3])"
      ]
     },
     "execution_count": 7,
     "metadata": {},
     "output_type": "execute_result"
    }
   ],
   "source": [
    "m.shape"
   ]
  },
  {
   "cell_type": "markdown",
   "id": "3925340b",
   "metadata": {},
   "source": [
    "Der Datentyp ist wichtig, da alles Einträge den gleichen Datentyp haben müssen"
   ]
  },
  {
   "cell_type": "code",
   "execution_count": 8,
   "id": "1e711670",
   "metadata": {},
   "outputs": [
    {
     "data": {
      "text/plain": [
       "tf.int32"
      ]
     },
     "execution_count": 8,
     "metadata": {},
     "output_type": "execute_result"
    }
   ],
   "source": [
    "m.dtype"
   ]
  },
  {
   "cell_type": "markdown",
   "id": "391e251d",
   "metadata": {},
   "source": [
    "Indexing"
   ]
  },
  {
   "cell_type": "code",
   "execution_count": 8,
   "id": "24409c1d",
   "metadata": {},
   "outputs": [
    {
     "data": {
      "text/plain": [
       "<tf.Tensor: shape=(2,), dtype=int32, numpy=array([1, 4])>"
      ]
     },
     "execution_count": 8,
     "metadata": {},
     "output_type": "execute_result"
    }
   ],
   "source": [
    "m[:, 0]  # Alle Zeilen Spalte 0"
   ]
  },
  {
   "cell_type": "code",
   "execution_count": 9,
   "id": "19a8d0b7",
   "metadata": {},
   "outputs": [
    {
     "data": {
      "text/plain": [
       "<tf.Tensor: shape=(3,), dtype=int32, numpy=array([4, 5, 6])>"
      ]
     },
     "execution_count": 9,
     "metadata": {},
     "output_type": "execute_result"
    }
   ],
   "source": [
    "m[1,:]  # Zweite Zeile alle Spalten"
   ]
  },
  {
   "cell_type": "markdown",
   "id": "9db66b92",
   "metadata": {},
   "source": [
    "### Rechenoperationen"
   ]
  },
  {
   "cell_type": "code",
   "execution_count": 12,
   "id": "3301972e",
   "metadata": {},
   "outputs": [
    {
     "name": "stdout",
     "output_type": "stream",
     "text": [
      "tf.Tensor(\n",
      "[[1 2 3]\n",
      " [4 5 6]], shape=(2, 3), dtype=int32)\n"
     ]
    }
   ],
   "source": [
    "t= tf.constant([[1,2,3],[4,5,6]])\n",
    "print(t)"
   ]
  },
  {
   "cell_type": "markdown",
   "id": "f1a9defc",
   "metadata": {},
   "source": [
    "Summe "
   ]
  },
  {
   "cell_type": "code",
   "execution_count": 15,
   "id": "5aaa3888",
   "metadata": {},
   "outputs": [
    {
     "name": "stdout",
     "output_type": "stream",
     "text": [
      "tf.Tensor(\n",
      "[[11 12 13]\n",
      " [14 15 16]], shape=(2, 3), dtype=int32)\n",
      "tf.Tensor(\n",
      "[[11 12 13]\n",
      " [14 15 16]], shape=(2, 3), dtype=int32)\n"
     ]
    }
   ],
   "source": [
    "print(t + 10)\n",
    "# Ist das gleiche wie:\n",
    "print(tf.add(t, 10))"
   ]
  },
  {
   "cell_type": "markdown",
   "id": "42fea1b9",
   "metadata": {},
   "source": [
    "Quadrieren"
   ]
  },
  {
   "cell_type": "code",
   "execution_count": 16,
   "id": "c3ce06d3",
   "metadata": {},
   "outputs": [
    {
     "data": {
      "text/plain": [
       "<tf.Tensor: shape=(2, 3), dtype=int32, numpy=\n",
       "array([[ 1,  4,  9],\n",
       "       [16, 25, 36]])>"
      ]
     },
     "execution_count": 16,
     "metadata": {},
     "output_type": "execute_result"
    }
   ],
   "source": [
    "tf.square(t)"
   ]
  },
  {
   "cell_type": "markdown",
   "id": "514bb830",
   "metadata": {},
   "source": [
    "Matrix Multiplikation mit transponierter Matrix"
   ]
  },
  {
   "cell_type": "code",
   "execution_count": 17,
   "id": "abe8aa8d",
   "metadata": {},
   "outputs": [
    {
     "name": "stdout",
     "output_type": "stream",
     "text": [
      "tf.Tensor(\n",
      "[[1 2 3]\n",
      " [4 5 6]], shape=(2, 3), dtype=int32)\n",
      "tf.Tensor(\n",
      "[[1 4]\n",
      " [2 5]\n",
      " [3 6]], shape=(3, 2), dtype=int32)\n"
     ]
    }
   ],
   "source": [
    "print(t)\n",
    "print(tf.transpose(t))"
   ]
  },
  {
   "cell_type": "code",
   "execution_count": 17,
   "id": "b11fc756",
   "metadata": {},
   "outputs": [
    {
     "data": {
      "text/plain": [
       "<tf.Tensor: shape=(2, 2), dtype=int32, numpy=\n",
       "array([[14, 32],\n",
       "       [32, 77]])>"
      ]
     },
     "execution_count": 17,
     "metadata": {},
     "output_type": "execute_result"
    }
   ],
   "source": [
    "t @ tf.transpose(t)"
   ]
  },
  {
   "cell_type": "markdown",
   "id": "dfccdee2",
   "metadata": {},
   "source": [
    "### Type conversion"
   ]
  },
  {
   "cell_type": "code",
   "execution_count": null,
   "id": "026d5c0d",
   "metadata": {},
   "outputs": [],
   "source": [
    "c = tf.constant([[10,5,1],[3,7,11]])\n"
   ]
  },
  {
   "cell_type": "markdown",
   "id": "e3ba02e9",
   "metadata": {},
   "source": [
    "Folgende Zeile gibt einen Fehler aus"
   ]
  },
  {
   "cell_type": "code",
   "execution_count": 21,
   "id": "19e3bb2f",
   "metadata": {},
   "outputs": [
    {
     "ename": "InvalidArgumentError",
     "evalue": "cannot compute AddV2 as input #1(zero-based) was expected to be a int32 tensor but is a float tensor [Op:AddV2]",
     "output_type": "error",
     "traceback": [
      "\u001b[1;31m---------------------------------------------------------------------------\u001b[0m",
      "\u001b[1;31mInvalidArgumentError\u001b[0m                      Traceback (most recent call last)",
      "\u001b[1;32mc:\\Users\\tokr\\OneDrive - EXXETA\\GFU Python und Data Science Kurse\\GFU_Schulung_08_08_22\\supervised-unsupervised-learning-marvins-repo\\Vorschau\\01_Einführung_tensorflow_numpy.ipynb Zelle 30\u001b[0m in \u001b[0;36m<cell line: 1>\u001b[1;34m()\u001b[0m\n\u001b[1;32m----> <a href='vscode-notebook-cell:/c%3A/Users/tokr/OneDrive%20-%20EXXETA/GFU%20Python%20und%20Data%20Science%20Kurse/GFU_Schulung_08_08_22/supervised-unsupervised-learning-marvins-repo/Vorschau/01_Einf%C3%BChrung_tensorflow_numpy.ipynb#ch0000021?line=0'>1</a>\u001b[0m c \u001b[39m+\u001b[39;49m \u001b[39m1.0\u001b[39;49m\n",
      "File \u001b[1;32mc:\\Users\\tokr\\Anaconda3\\envs\\gfu\\lib\\site-packages\\tensorflow\\python\\util\\traceback_utils.py:153\u001b[0m, in \u001b[0;36mfilter_traceback.<locals>.error_handler\u001b[1;34m(*args, **kwargs)\u001b[0m\n\u001b[0;32m    151\u001b[0m \u001b[39mexcept\u001b[39;00m \u001b[39mException\u001b[39;00m \u001b[39mas\u001b[39;00m e:\n\u001b[0;32m    152\u001b[0m   filtered_tb \u001b[39m=\u001b[39m _process_traceback_frames(e\u001b[39m.\u001b[39m__traceback__)\n\u001b[1;32m--> 153\u001b[0m   \u001b[39mraise\u001b[39;00m e\u001b[39m.\u001b[39mwith_traceback(filtered_tb) \u001b[39mfrom\u001b[39;00m \u001b[39mNone\u001b[39m\n\u001b[0;32m    154\u001b[0m \u001b[39mfinally\u001b[39;00m:\n\u001b[0;32m    155\u001b[0m   \u001b[39mdel\u001b[39;00m filtered_tb\n",
      "File \u001b[1;32mc:\\Users\\tokr\\Anaconda3\\envs\\gfu\\lib\\site-packages\\tensorflow\\python\\framework\\ops.py:7164\u001b[0m, in \u001b[0;36mraise_from_not_ok_status\u001b[1;34m(e, name)\u001b[0m\n\u001b[0;32m   7162\u001b[0m \u001b[39mdef\u001b[39;00m \u001b[39mraise_from_not_ok_status\u001b[39m(e, name):\n\u001b[0;32m   7163\u001b[0m   e\u001b[39m.\u001b[39mmessage \u001b[39m+\u001b[39m\u001b[39m=\u001b[39m (\u001b[39m\"\u001b[39m\u001b[39m name: \u001b[39m\u001b[39m\"\u001b[39m \u001b[39m+\u001b[39m name \u001b[39mif\u001b[39;00m name \u001b[39mis\u001b[39;00m \u001b[39mnot\u001b[39;00m \u001b[39mNone\u001b[39;00m \u001b[39melse\u001b[39;00m \u001b[39m\"\u001b[39m\u001b[39m\"\u001b[39m)\n\u001b[1;32m-> 7164\u001b[0m   \u001b[39mraise\u001b[39;00m core\u001b[39m.\u001b[39m_status_to_exception(e) \u001b[39mfrom\u001b[39;00m \u001b[39mNone\u001b[39m\n",
      "\u001b[1;31mInvalidArgumentError\u001b[0m: cannot compute AddV2 as input #1(zero-based) was expected to be a int32 tensor but is a float tensor [Op:AddV2]"
     ]
    }
   ],
   "source": [
    "c + 1.0"
   ]
  },
  {
   "cell_type": "code",
   "execution_count": 22,
   "id": "5f230561",
   "metadata": {},
   "outputs": [
    {
     "data": {
      "text/plain": [
       "<tf.Tensor: shape=(2, 3), dtype=int32, numpy=\n",
       "array([[10,  5,  1],\n",
       "       [ 3,  7, 11]])>"
      ]
     },
     "execution_count": 22,
     "metadata": {},
     "output_type": "execute_result"
    }
   ],
   "source": [
    "c"
   ]
  },
  {
   "cell_type": "markdown",
   "id": "3439da8d",
   "metadata": {},
   "source": [
    "Um die Summe eines int Typ Tensors und eines floats berechnen zu können, ist es nötig den Tensor erst als float Typ zu casten."
   ]
  },
  {
   "cell_type": "code",
   "execution_count": 23,
   "id": "9273c754",
   "metadata": {},
   "outputs": [
    {
     "data": {
      "text/plain": [
       "<tf.Tensor: shape=(2, 3), dtype=float32, numpy=\n",
       "array([[11.,  6.,  2.],\n",
       "       [ 4.,  8., 12.]], dtype=float32)>"
      ]
     },
     "execution_count": 23,
     "metadata": {},
     "output_type": "execute_result"
    }
   ],
   "source": [
    "tf.cast(c,tf.float32) + 1.0"
   ]
  },
  {
   "cell_type": "markdown",
   "id": "9934e3e7",
   "metadata": {},
   "source": [
    "#### Wichtig: Tensoren mit `tf.constant` sind immutable. Das heißt sie können nicht verändert werden. Stattdessen benötift man eine `tf.Variable` (z.B für Custom Metriken oder Weights in Neuronalen Netzen)"
   ]
  },
  {
   "cell_type": "code",
   "execution_count": 25,
   "id": "d081febc",
   "metadata": {},
   "outputs": [
    {
     "name": "stdout",
     "output_type": "stream",
     "text": [
      "<tf.Variable 'Variable:0' shape=() dtype=int32, numpy=10>\n"
     ]
    }
   ],
   "source": [
    "v = tf.Variable(5)\n",
    "v.assign(2*v)\n",
    "print(v)"
   ]
  },
  {
   "cell_type": "code",
   "execution_count": null,
   "id": "9dfee935",
   "metadata": {},
   "outputs": [],
   "source": []
  }
 ],
 "metadata": {
  "kernelspec": {
   "display_name": "Python 3.9.12 ('gfu')",
   "language": "python",
   "name": "python3"
  },
  "language_info": {
   "codemirror_mode": {
    "name": "ipython",
    "version": 3
   },
   "file_extension": ".py",
   "mimetype": "text/x-python",
   "name": "python",
   "nbconvert_exporter": "python",
   "pygments_lexer": "ipython3",
   "version": "3.9.12"
  },
  "vscode": {
   "interpreter": {
    "hash": "e864730d2f807f13f4d104b22c7e5e13a61449226575b37cac3d5916cc8f913f"
   }
  }
 },
 "nbformat": 4,
 "nbformat_minor": 5
}
