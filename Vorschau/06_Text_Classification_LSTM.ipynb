{
 "cells": [
  {
   "cell_type": "markdown",
   "metadata": {
    "id": "9TnJztDZGw-n"
   },
   "source": [
    "# Text classification with an RNN"
   ]
  },
  {
   "cell_type": "markdown",
   "metadata": {
    "id": "lUWearf0Gw-p"
   },
   "source": [
    "This text classification tutorial trains a recurrent neural network on the [IMDB large movie review dataset](http://ai.stanford.edu/~amaas/data/sentiment/) for sentiment analysis."
   ]
  },
  {
   "cell_type": "markdown",
   "metadata": {
    "id": "_2VQo4bajwUU"
   },
   "source": [
    "## Setup"
   ]
  },
  {
   "cell_type": "code",
   "execution_count": 1,
   "metadata": {},
   "outputs": [
    {
     "name": "stdout",
     "output_type": "stream",
     "text": [
      "Requirement already satisfied: tensorflow_datasets in /home/tokr/miniconda3/envs/tensorflow/lib/python3.9/site-packages (4.6.0)\n",
      "Requirement already satisfied: requests>=2.19.0 in /home/tokr/miniconda3/envs/tensorflow/lib/python3.9/site-packages (from tensorflow_datasets) (2.28.1)\n",
      "Requirement already satisfied: toml in /home/tokr/miniconda3/envs/tensorflow/lib/python3.9/site-packages (from tensorflow_datasets) (0.10.2)\n",
      "Requirement already satisfied: promise in /home/tokr/miniconda3/envs/tensorflow/lib/python3.9/site-packages (from tensorflow_datasets) (2.3)\n",
      "Requirement already satisfied: tensorflow-metadata in /home/tokr/miniconda3/envs/tensorflow/lib/python3.9/site-packages (from tensorflow_datasets) (1.9.0)\n",
      "Requirement already satisfied: tqdm in /home/tokr/miniconda3/envs/tensorflow/lib/python3.9/site-packages (from tensorflow_datasets) (4.64.0)\n",
      "Requirement already satisfied: protobuf>=3.12.2 in /home/tokr/miniconda3/envs/tensorflow/lib/python3.9/site-packages (from tensorflow_datasets) (3.19.4)\n",
      "Requirement already satisfied: etils[epath] in /home/tokr/miniconda3/envs/tensorflow/lib/python3.9/site-packages (from tensorflow_datasets) (0.7.0)\n",
      "Requirement already satisfied: six in /home/tokr/miniconda3/envs/tensorflow/lib/python3.9/site-packages (from tensorflow_datasets) (1.16.0)\n",
      "Requirement already satisfied: dill in /home/tokr/miniconda3/envs/tensorflow/lib/python3.9/site-packages (from tensorflow_datasets) (0.3.5.1)\n",
      "Requirement already satisfied: termcolor in /home/tokr/miniconda3/envs/tensorflow/lib/python3.9/site-packages (from tensorflow_datasets) (1.1.0)\n",
      "Requirement already satisfied: absl-py in /home/tokr/miniconda3/envs/tensorflow/lib/python3.9/site-packages (from tensorflow_datasets) (1.2.0)\n",
      "Requirement already satisfied: numpy in /home/tokr/miniconda3/envs/tensorflow/lib/python3.9/site-packages (from tensorflow_datasets) (1.23.1)\n",
      "Requirement already satisfied: idna<4,>=2.5 in /home/tokr/miniconda3/envs/tensorflow/lib/python3.9/site-packages (from requests>=2.19.0->tensorflow_datasets) (3.3)\n",
      "Requirement already satisfied: urllib3<1.27,>=1.21.1 in /home/tokr/miniconda3/envs/tensorflow/lib/python3.9/site-packages (from requests>=2.19.0->tensorflow_datasets) (1.26.11)\n",
      "Requirement already satisfied: charset-normalizer<3,>=2 in /home/tokr/miniconda3/envs/tensorflow/lib/python3.9/site-packages (from requests>=2.19.0->tensorflow_datasets) (2.1.0)\n",
      "Requirement already satisfied: certifi>=2017.4.17 in /home/tokr/miniconda3/envs/tensorflow/lib/python3.9/site-packages (from requests>=2.19.0->tensorflow_datasets) (2022.6.15)\n",
      "Requirement already satisfied: typing_extensions in /home/tokr/miniconda3/envs/tensorflow/lib/python3.9/site-packages (from etils[epath]->tensorflow_datasets) (4.3.0)\n",
      "Requirement already satisfied: zipp in /home/tokr/miniconda3/envs/tensorflow/lib/python3.9/site-packages (from etils[epath]->tensorflow_datasets) (3.8.1)\n",
      "Requirement already satisfied: importlib_resources in /home/tokr/miniconda3/envs/tensorflow/lib/python3.9/site-packages (from etils[epath]->tensorflow_datasets) (5.9.0)\n",
      "Requirement already satisfied: googleapis-common-protos<2,>=1.52.0 in /home/tokr/miniconda3/envs/tensorflow/lib/python3.9/site-packages (from tensorflow-metadata->tensorflow_datasets) (1.56.4)\n"
     ]
    }
   ],
   "source": [
    "! pip install tensorflow_datasets"
   ]
  },
  {
   "cell_type": "code",
   "execution_count": 1,
   "metadata": {
    "execution": {
     "iopub.execute_input": "2022-04-05T11:08:43.157837Z",
     "iopub.status.busy": "2022-04-05T11:08:43.157626Z",
     "iopub.status.idle": "2022-04-05T11:08:45.498180Z",
     "shell.execute_reply": "2022-04-05T11:08:45.497485Z"
    },
    "id": "z682XYsrjkY9"
   },
   "outputs": [
    {
     "name": "stderr",
     "output_type": "stream",
     "text": [
      "2022-08-08 22:58:03.053049: W tensorflow/stream_executor/platform/default/dso_loader.cc:64] Could not load dynamic library 'libcudart.so.11.0'; dlerror: libcudart.so.11.0: cannot open shared object file: No such file or directory\n",
      "2022-08-08 22:58:03.053090: I tensorflow/stream_executor/cuda/cudart_stub.cc:29] Ignore above cudart dlerror if you do not have a GPU set up on your machine.\n",
      "/home/tokr/miniconda3/envs/tensorflow/lib/python3.9/site-packages/tqdm/auto.py:22: TqdmWarning: IProgress not found. Please update jupyter and ipywidgets. See https://ipywidgets.readthedocs.io/en/stable/user_install.html\n",
      "  from .autonotebook import tqdm as notebook_tqdm\n"
     ]
    }
   ],
   "source": [
    "import numpy as np\n",
    "\n",
    "import tensorflow_datasets as tfds\n",
    "import tensorflow as tf\n",
    "\n",
    "import matplotlib.pyplot as plt\n",
    "\n",
    "tfds.disable_progress_bar()"
   ]
  },
  {
   "cell_type": "code",
   "execution_count": 2,
   "metadata": {
    "execution": {
     "iopub.execute_input": "2022-04-05T11:08:45.502330Z",
     "iopub.status.busy": "2022-04-05T11:08:45.502098Z",
     "iopub.status.idle": "2022-04-05T11:08:46.590808Z",
     "shell.execute_reply": "2022-04-05T11:08:46.590087Z"
    },
    "id": "Mp1Z7P9pYRSK"
   },
   "outputs": [],
   "source": [
    "def plot_graphs(history, metric):\n",
    "  plt.plot(history.history[metric])\n",
    "  plt.plot(history.history['val_'+metric], '')\n",
    "  plt.xlabel(\"Epochs\")\n",
    "  plt.ylabel(metric)\n",
    "  plt.legend([metric, 'val_'+metric])"
   ]
  },
  {
   "cell_type": "markdown",
   "metadata": {
    "id": "pRmMubr0jrE2"
   },
   "source": [
    "## Setup input pipeline\n",
    "\n",
    "\n",
    "The IMDB large movie review dataset is a *binary classification* dataset—all the reviews have either a *positive* or *negative* sentiment.\n",
    "\n",
    "Download the dataset using [TFDS](https://www.tensorflow.org/datasets). See the [loading text tutorial](https://www.tensorflow.org/tutorials/load_data/text) for details on how to load this sort of data manually.\n"
   ]
  },
  {
   "cell_type": "code",
   "execution_count": 3,
   "metadata": {
    "execution": {
     "iopub.execute_input": "2022-04-05T11:08:46.594935Z",
     "iopub.status.busy": "2022-04-05T11:08:46.594430Z",
     "iopub.status.idle": "2022-04-05T11:08:52.116992Z",
     "shell.execute_reply": "2022-04-05T11:08:52.116404Z"
    },
    "id": "SHRwRoP2nVHX"
   },
   "outputs": [
    {
     "name": "stderr",
     "output_type": "stream",
     "text": [
      "2022-08-08 22:58:10.747868: I tensorflow/stream_executor/cuda/cuda_gpu_executor.cc:961] could not open file to read NUMA node: /sys/bus/pci/devices/0000:01:00.0/numa_node\n",
      "Your kernel may have been built without NUMA support.\n",
      "2022-08-08 22:58:10.752106: W tensorflow/stream_executor/platform/default/dso_loader.cc:64] Could not load dynamic library 'libcudart.so.11.0'; dlerror: libcudart.so.11.0: cannot open shared object file: No such file or directory\n",
      "2022-08-08 22:58:10.752172: W tensorflow/stream_executor/platform/default/dso_loader.cc:64] Could not load dynamic library 'libcublas.so.11'; dlerror: libcublas.so.11: cannot open shared object file: No such file or directory\n",
      "2022-08-08 22:58:10.752215: W tensorflow/stream_executor/platform/default/dso_loader.cc:64] Could not load dynamic library 'libcublasLt.so.11'; dlerror: libcublasLt.so.11: cannot open shared object file: No such file or directory\n",
      "2022-08-08 22:58:10.752272: W tensorflow/stream_executor/platform/default/dso_loader.cc:64] Could not load dynamic library 'libcufft.so.10'; dlerror: libcufft.so.10: cannot open shared object file: No such file or directory\n",
      "2022-08-08 22:58:10.752312: W tensorflow/stream_executor/platform/default/dso_loader.cc:64] Could not load dynamic library 'libcurand.so.10'; dlerror: libcurand.so.10: cannot open shared object file: No such file or directory\n",
      "2022-08-08 22:58:10.752353: W tensorflow/stream_executor/platform/default/dso_loader.cc:64] Could not load dynamic library 'libcusolver.so.11'; dlerror: libcusolver.so.11: cannot open shared object file: No such file or directory\n",
      "2022-08-08 22:58:10.752392: W tensorflow/stream_executor/platform/default/dso_loader.cc:64] Could not load dynamic library 'libcusparse.so.11'; dlerror: libcusparse.so.11: cannot open shared object file: No such file or directory\n",
      "2022-08-08 22:58:10.752432: W tensorflow/stream_executor/platform/default/dso_loader.cc:64] Could not load dynamic library 'libcudnn.so.8'; dlerror: libcudnn.so.8: cannot open shared object file: No such file or directory\n",
      "2022-08-08 22:58:10.752440: W tensorflow/core/common_runtime/gpu/gpu_device.cc:1850] Cannot dlopen some GPU libraries. Please make sure the missing libraries mentioned above are installed properly if you would like to use GPU. Follow the guide at https://www.tensorflow.org/install/gpu for how to download and setup the required libraries for your platform.\n",
      "Skipping registering GPU devices...\n",
      "2022-08-08 22:58:10.753032: I tensorflow/core/platform/cpu_feature_guard.cc:193] This TensorFlow binary is optimized with oneAPI Deep Neural Network Library (oneDNN) to use the following CPU instructions in performance-critical operations:  AVX2 FMA\n",
      "To enable them in other operations, rebuild TensorFlow with the appropriate compiler flags.\n"
     ]
    },
    {
     "data": {
      "text/plain": [
       "(TensorSpec(shape=(), dtype=tf.string, name=None),\n",
       " TensorSpec(shape=(), dtype=tf.int64, name=None))"
      ]
     },
     "execution_count": 3,
     "metadata": {},
     "output_type": "execute_result"
    }
   ],
   "source": [
    "dataset, info = tfds.load('imdb_reviews', with_info=True,\n",
    "                          as_supervised=True)\n",
    "train_dataset, test_dataset = dataset['train'], dataset['test']\n",
    "\n",
    "train_dataset.element_spec"
   ]
  },
  {
   "cell_type": "markdown",
   "metadata": {
    "id": "nWA4c2ir7g6p"
   },
   "source": [
    "Initially this returns a dataset of (text, label pairs):"
   ]
  },
  {
   "cell_type": "code",
   "execution_count": 5,
   "metadata": {
    "execution": {
     "iopub.execute_input": "2022-04-05T11:08:52.145332Z",
     "iopub.status.busy": "2022-04-05T11:08:52.144734Z",
     "iopub.status.idle": "2022-04-05T11:08:54.698953Z",
     "shell.execute_reply": "2022-04-05T11:08:54.698259Z"
    },
    "id": "vd4_BGKyurao"
   },
   "outputs": [
    {
     "name": "stdout",
     "output_type": "stream",
     "text": [
      "text:  b\"This was an absolutely terrible movie. Don't be lured in by Christopher Walken or Michael Ironside. Both are great actors, but this must simply be their worst role in history. Even their great acting could not redeem this movie's ridiculous storyline. This movie is an early nineties US propaganda piece. The most pathetic scenes were those when the Columbian rebels were making their cases for revolutions. Maria Conchita Alonso appeared phony, and her pseudo-love affair with Walken was nothing but a pathetic emotional plug in a movie that was devoid of any real meaning. I am disappointed that there are movies like this, ruining actor's like Christopher Walken's good name. I could barely sit through it.\"\n",
      "label:  0\n"
     ]
    },
    {
     "name": "stderr",
     "output_type": "stream",
     "text": [
      "2022-08-08 22:59:49.169587: W tensorflow/core/kernels/data/cache_dataset_ops.cc:856] The calling iterator did not fully read the dataset being cached. In order to avoid unexpected truncation of the dataset, the partially cached contents of the dataset  will be discarded. This can happen if you have an input pipeline similar to `dataset.cache().take(k).repeat()`. You should use `dataset.take(k).cache().repeat()` instead.\n"
     ]
    }
   ],
   "source": [
    "for example, label in train_dataset.take(1):\n",
    "  print('text: ', example.numpy())\n",
    "  print('label: ', label.numpy())"
   ]
  },
  {
   "cell_type": "markdown",
   "metadata": {
    "id": "z2qVJzcEluH_"
   },
   "source": [
    "Next shuffle the data for training and create batches of these `(text, label)` pairs:"
   ]
  },
  {
   "cell_type": "code",
   "execution_count": 6,
   "metadata": {
    "execution": {
     "iopub.execute_input": "2022-04-05T11:08:54.702399Z",
     "iopub.status.busy": "2022-04-05T11:08:54.702163Z",
     "iopub.status.idle": "2022-04-05T11:08:54.705604Z",
     "shell.execute_reply": "2022-04-05T11:08:54.705039Z"
    },
    "id": "dDsCaZCDYZgm"
   },
   "outputs": [],
   "source": [
    "BUFFER_SIZE = 10000\n",
    "BATCH_SIZE = 64"
   ]
  },
  {
   "cell_type": "code",
   "execution_count": 7,
   "metadata": {
    "execution": {
     "iopub.execute_input": "2022-04-05T11:08:54.708533Z",
     "iopub.status.busy": "2022-04-05T11:08:54.708305Z",
     "iopub.status.idle": "2022-04-05T11:08:54.715615Z",
     "shell.execute_reply": "2022-04-05T11:08:54.715018Z"
    },
    "id": "VznrltNOnUc5"
   },
   "outputs": [],
   "source": [
    "train_dataset = train_dataset.shuffle(BUFFER_SIZE).batch(BATCH_SIZE).prefetch(tf.data.AUTOTUNE)\n",
    "test_dataset = test_dataset.batch(BATCH_SIZE).prefetch(tf.data.AUTOTUNE)"
   ]
  },
  {
   "cell_type": "code",
   "execution_count": 8,
   "metadata": {
    "execution": {
     "iopub.execute_input": "2022-04-05T11:08:54.718654Z",
     "iopub.status.busy": "2022-04-05T11:08:54.718442Z",
     "iopub.status.idle": "2022-04-05T11:08:55.590184Z",
     "shell.execute_reply": "2022-04-05T11:08:55.589440Z"
    },
    "id": "jqkvdcFv41wC"
   },
   "outputs": [
    {
     "name": "stdout",
     "output_type": "stream",
     "text": [
      "text:  b\"I've seen my fair share of badly thought-out endings and final twists to films, but I don't recall any film that committed outright suicide like this one did.<br /><br />The film makers were clearly hoping that the great twist would 'surprise' us all.... and it did, but perhaps not in the way the directors had hoped. I was left feeling surprised that Connery, Harris, Fishburn and Capshaw had anything to do with this turkey, individually or collectively.<br /><br />The film up until the final thirty minutes was rather engaging and I like the way the story was unfolding and the nature of the film overall. But once the twist was revealed, the plot holes and inconsistencies were remarkable, the underlying motive for revenge was ill-conceived and the ways things so neatly worked out for Bobby Earl was ridiculously far-fetched. What's worse is that, once the twist was revealed, the remainder of the film became excruciatingly predictable.<br /><br />Harris gave a terrific performance and Connery is like Morgan Freeman in that he never gives a bad performance, even if the movie ain't that great! So all in all, it starts well and the unfolding keeps the viewer interested. The last 30 minutes is one of the most memorable nose dives in the history of cinema.\"\n",
      "\n",
      "label:  0\n",
      "--------------------------------------------------------------------------------------------------------------------------------\n",
      "text:  b'The \"Amazing Mr. Williams\" stars Melvyn Douglas, who did five films in 1939, one of which was Ninotchka with Garbo. His co-star was Joan Blondell (Maxine), who ALSO did five films that year, THREE of which they made together! Douglas is Lt. Williams, and he and his co-horts are presented with a dead body, and they must figure out what really happened. Viewers will recognize his co-workers - the actors (Clarence Kolb, Donald MacBride, Don Beddoe) always played positions of authority... senators, bank presidents, policemen. This who-dunnit has a flair of comedy to it -- the policemen are always throwing jabs at each other, and even Williams and his girlfriend are battling verbally. Some fun gags - Williams even takes the man they arrested along on a date with his girlfriend. There\\'s a lot of fun stuff in here, so get past the slow beginning and wait for the funnier stuff later on. Don\\'t want to give away any spoilers, so you\\'ll have to catch it on Turner Classic Movies. Director Alexander Hall made mostly comedies, and was reportedly engaged to Lucy at some point.'\n",
      "\n",
      "label:  1\n",
      "--------------------------------------------------------------------------------------------------------------------------------\n",
      "text:  b\"I first saw this movie when I was a freshman in high school, and the film has stuck with me through the years. It's not about the soundtrack, or cinematography, or even the dialogue and somewhat bad acting, it's about the educational purpose, and the message behind that is the most important. It's not a sin to have a child when you're a teenager and still in high school, and it's not really a bad thing, either, but it is a problem. Tons of girls I knew are all having children now, and I guess they never watched this great movie, and if they did, they clearly didn't get the message behind it all. It's about not taking chances when you're in a sexual relationship. Any girl can get pregnant the first time. It's not a myth. You don't necessarily lose out on your dreams, but they do have to take a backseat in your future because you have a child to think about first.<br /><br />This movie has a clear message behind it: JUST SAY NO!\"\n",
      "\n",
      "label:  1\n",
      "--------------------------------------------------------------------------------------------------------------------------------\n"
     ]
    },
    {
     "name": "stderr",
     "output_type": "stream",
     "text": [
      "2022-08-08 23:00:03.377672: W tensorflow/core/kernels/data/cache_dataset_ops.cc:856] The calling iterator did not fully read the dataset being cached. In order to avoid unexpected truncation of the dataset, the partially cached contents of the dataset  will be discarded. This can happen if you have an input pipeline similar to `dataset.cache().take(k).repeat()`. You should use `dataset.take(k).cache().repeat()` instead.\n"
     ]
    }
   ],
   "source": [
    "for example, example_label in train_dataset.take(1):\n",
    "    for i in range(3):\n",
    "        print('text: ', example.numpy()[i])\n",
    "        print()\n",
    "        print('label: ', example_label.numpy()[i])\n",
    "        print('--------------------------------------------------------------------------------------------------------------------------------')"
   ]
  },
  {
   "cell_type": "markdown",
   "metadata": {
    "id": "s5eWCo88voPY"
   },
   "source": [
    "## Create the text encoder"
   ]
  },
  {
   "cell_type": "markdown",
   "metadata": {
    "id": "TFevcItw15P_"
   },
   "source": [
    "The raw text loaded by `tfds` needs to be processed before it can be used in a model. The simplest way to process text for training is using the `TextVectorization` layer. This layer has many capabilities, but this tutorial sticks to the default behavior.\n",
    "\n",
    "Create the layer, and pass the dataset's text to the layer's `.adapt` method:"
   ]
  },
  {
   "cell_type": "code",
   "execution_count": 9,
   "metadata": {
    "execution": {
     "iopub.execute_input": "2022-04-05T11:08:55.594290Z",
     "iopub.status.busy": "2022-04-05T11:08:55.594056Z",
     "iopub.status.idle": "2022-04-05T11:09:00.906388Z",
     "shell.execute_reply": "2022-04-05T11:09:00.905603Z"
    },
    "id": "uC25Lu1Yvuqy"
   },
   "outputs": [],
   "source": [
    "VOCAB_SIZE = 1000\n",
    "encoder = tf.keras.layers.TextVectorization(max_tokens=VOCAB_SIZE)\n",
    "encoder.adapt(train_dataset.map(lambda text, label: text))"
   ]
  },
  {
   "cell_type": "markdown",
   "metadata": {
    "id": "IuQzVBbe3Ldu"
   },
   "source": [
    "The `.adapt` method sets the layer's vocabulary. Here are the first 20 tokens. After the padding and unknown tokens they're sorted by frequency: "
   ]
  },
  {
   "cell_type": "code",
   "execution_count": 10,
   "metadata": {
    "execution": {
     "iopub.execute_input": "2022-04-05T11:09:00.911143Z",
     "iopub.status.busy": "2022-04-05T11:09:00.910456Z",
     "iopub.status.idle": "2022-04-05T11:09:00.919381Z",
     "shell.execute_reply": "2022-04-05T11:09:00.918659Z"
    },
    "id": "tBoyjjWg0Ac9"
   },
   "outputs": [
    {
     "data": {
      "text/plain": [
       "array(['', '[UNK]', 'the', 'and', 'a', 'of', 'to', 'is', 'in', 'it', 'i',\n",
       "       'this', 'that', 'br', 'was', 'as', 'for', 'with', 'movie', 'but'],\n",
       "      dtype='<U14')"
      ]
     },
     "execution_count": 10,
     "metadata": {},
     "output_type": "execute_result"
    }
   ],
   "source": [
    "vocab = np.array(encoder.get_vocabulary())\n",
    "vocab[:20]"
   ]
  },
  {
   "cell_type": "markdown",
   "metadata": {
    "id": "mjId5pua3jHQ"
   },
   "source": [
    "Once the vocabulary is set, the layer can encode text into indices. The tensors of indices are 0-padded to the longest sequence in the batch (unless you set a fixed `output_sequence_length`):"
   ]
  },
  {
   "cell_type": "code",
   "execution_count": 11,
   "metadata": {
    "execution": {
     "iopub.execute_input": "2022-04-05T11:09:00.923246Z",
     "iopub.status.busy": "2022-04-05T11:09:00.922590Z",
     "iopub.status.idle": "2022-04-05T11:09:00.941099Z",
     "shell.execute_reply": "2022-04-05T11:09:00.940408Z"
    },
    "id": "RGc7C9WiwRWs"
   },
   "outputs": [
    {
     "data": {
      "text/plain": [
       "array([[195, 108,  56, ...,   0,   0,   0],\n",
       "       [  2, 473, 436, ...,   0,   0,   0],\n",
       "       [ 10,  86, 208, ...,   0,   0,   0]])"
      ]
     },
     "execution_count": 11,
     "metadata": {},
     "output_type": "execute_result"
    }
   ],
   "source": [
    "encoded_example = encoder(example)[:3].numpy()\n",
    "encoded_example"
   ]
  },
  {
   "cell_type": "code",
   "execution_count": 12,
   "metadata": {},
   "outputs": [
    {
     "data": {
      "text/plain": [
       "<tf.Tensor: shape=(3,), dtype=string, numpy=\n",
       "array([b\"I've seen my fair share of badly thought-out endings and final twists to films, but I don't recall any film that committed outright suicide like this one did.<br /><br />The film makers were clearly hoping that the great twist would 'surprise' us all.... and it did, but perhaps not in the way the directors had hoped. I was left feeling surprised that Connery, Harris, Fishburn and Capshaw had anything to do with this turkey, individually or collectively.<br /><br />The film up until the final thirty minutes was rather engaging and I like the way the story was unfolding and the nature of the film overall. But once the twist was revealed, the plot holes and inconsistencies were remarkable, the underlying motive for revenge was ill-conceived and the ways things so neatly worked out for Bobby Earl was ridiculously far-fetched. What's worse is that, once the twist was revealed, the remainder of the film became excruciatingly predictable.<br /><br />Harris gave a terrific performance and Connery is like Morgan Freeman in that he never gives a bad performance, even if the movie ain't that great! So all in all, it starts well and the unfolding keeps the viewer interested. The last 30 minutes is one of the most memorable nose dives in the history of cinema.\",\n",
       "       b'The \"Amazing Mr. Williams\" stars Melvyn Douglas, who did five films in 1939, one of which was Ninotchka with Garbo. His co-star was Joan Blondell (Maxine), who ALSO did five films that year, THREE of which they made together! Douglas is Lt. Williams, and he and his co-horts are presented with a dead body, and they must figure out what really happened. Viewers will recognize his co-workers - the actors (Clarence Kolb, Donald MacBride, Don Beddoe) always played positions of authority... senators, bank presidents, policemen. This who-dunnit has a flair of comedy to it -- the policemen are always throwing jabs at each other, and even Williams and his girlfriend are battling verbally. Some fun gags - Williams even takes the man they arrested along on a date with his girlfriend. There\\'s a lot of fun stuff in here, so get past the slow beginning and wait for the funnier stuff later on. Don\\'t want to give away any spoilers, so you\\'ll have to catch it on Turner Classic Movies. Director Alexander Hall made mostly comedies, and was reportedly engaged to Lucy at some point.',\n",
       "       b\"I first saw this movie when I was a freshman in high school, and the film has stuck with me through the years. It's not about the soundtrack, or cinematography, or even the dialogue and somewhat bad acting, it's about the educational purpose, and the message behind that is the most important. It's not a sin to have a child when you're a teenager and still in high school, and it's not really a bad thing, either, but it is a problem. Tons of girls I knew are all having children now, and I guess they never watched this great movie, and if they did, they clearly didn't get the message behind it all. It's about not taking chances when you're in a sexual relationship. Any girl can get pregnant the first time. It's not a myth. You don't necessarily lose out on your dreams, but they do have to take a backseat in your future because you have a child to think about first.<br /><br />This movie has a clear message behind it: JUST SAY NO!\"],\n",
       "      dtype=object)>"
      ]
     },
     "execution_count": 12,
     "metadata": {},
     "output_type": "execute_result"
    }
   ],
   "source": [
    "example[:3]"
   ]
  },
  {
   "cell_type": "markdown",
   "metadata": {
    "id": "F5cjz0bS39IN"
   },
   "source": [
    "With the default settings, the process is not completely reversible. There are three main reasons for that:\n",
    "\n",
    "1. The default value for `preprocessing.TextVectorization`'s `standardize` argument is `\"lower_and_strip_punctuation\"`.\n",
    "2. The limited vocabulary size and lack of character-based fallback results in some unknown tokens."
   ]
  },
  {
   "cell_type": "code",
   "execution_count": 13,
   "metadata": {
    "execution": {
     "iopub.execute_input": "2022-04-05T11:09:00.945104Z",
     "iopub.status.busy": "2022-04-05T11:09:00.944439Z",
     "iopub.status.idle": "2022-04-05T11:09:00.951145Z",
     "shell.execute_reply": "2022-04-05T11:09:00.950412Z"
    },
    "id": "N_tD0QY5wXaK"
   },
   "outputs": [
    {
     "name": "stdout",
     "output_type": "stream",
     "text": [
      "Original:  b\"I've seen my fair share of badly thought-out endings and final twists to films, but I don't recall any film that committed outright suicide like this one did.<br /><br />The film makers were clearly hoping that the great twist would 'surprise' us all.... and it did, but perhaps not in the way the directors had hoped. I was left feeling surprised that Connery, Harris, Fishburn and Capshaw had anything to do with this turkey, individually or collectively.<br /><br />The film up until the final thirty minutes was rather engaging and I like the way the story was unfolding and the nature of the film overall. But once the twist was revealed, the plot holes and inconsistencies were remarkable, the underlying motive for revenge was ill-conceived and the ways things so neatly worked out for Bobby Earl was ridiculously far-fetched. What's worse is that, once the twist was revealed, the remainder of the film became excruciatingly predictable.<br /><br />Harris gave a terrific performance and Connery is like Morgan Freeman in that he never gives a bad performance, even if the movie ain't that great! So all in all, it starts well and the unfolding keeps the viewer interested. The last 30 minutes is one of the most memorable nose dives in the history of cinema.\"\n",
      "\n",
      "Round-trip:  ive seen my [UNK] [UNK] of badly [UNK] [UNK] and final [UNK] to films but i dont [UNK] any film that [UNK] [UNK] [UNK] like this one [UNK] br the film [UNK] were clearly [UNK] that the great twist would surprise us all and it did but perhaps not in the way the directors had [UNK] i was left feeling surprised that [UNK] [UNK] [UNK] and [UNK] had anything to do with this [UNK] [UNK] or [UNK] br the film up until the final [UNK] minutes was rather [UNK] and i like the way the story was [UNK] and the nature of the film overall but once the twist was [UNK] the plot [UNK] and [UNK] were [UNK] the [UNK] [UNK] for [UNK] was [UNK] and the ways things so [UNK] worked out for [UNK] [UNK] was [UNK] [UNK] whats worse is that once the twist was [UNK] the [UNK] of the film became [UNK] [UNK] br [UNK] gave a [UNK] performance and [UNK] is like [UNK] [UNK] in that he never gives a bad performance even if the movie [UNK] that great so all in all it starts well and the [UNK] keeps the viewer interested the last [UNK] minutes is one of the most memorable [UNK] [UNK] in the history of cinema                                                                                                                                                                                                                                                                                                                                                                                                                                                                                                                                                                                                                                                  \n",
      "----------------------------------------------------------------------------------------------------\n",
      "\n",
      "Original:  b'The \"Amazing Mr. Williams\" stars Melvyn Douglas, who did five films in 1939, one of which was Ninotchka with Garbo. His co-star was Joan Blondell (Maxine), who ALSO did five films that year, THREE of which they made together! Douglas is Lt. Williams, and he and his co-horts are presented with a dead body, and they must figure out what really happened. Viewers will recognize his co-workers - the actors (Clarence Kolb, Donald MacBride, Don Beddoe) always played positions of authority... senators, bank presidents, policemen. This who-dunnit has a flair of comedy to it -- the policemen are always throwing jabs at each other, and even Williams and his girlfriend are battling verbally. Some fun gags - Williams even takes the man they arrested along on a date with his girlfriend. There\\'s a lot of fun stuff in here, so get past the slow beginning and wait for the funnier stuff later on. Don\\'t want to give away any spoilers, so you\\'ll have to catch it on Turner Classic Movies. Director Alexander Hall made mostly comedies, and was reportedly engaged to Lucy at some point.'\n",
      "\n",
      "Round-trip:  the amazing mr [UNK] stars [UNK] [UNK] who did five films in [UNK] one of which was [UNK] with [UNK] his [UNK] was [UNK] [UNK] [UNK] who also did five films that year three of which they made together [UNK] is [UNK] [UNK] and he and his [UNK] are [UNK] with a dead body and they must figure out what really happened viewers will [UNK] his [UNK] the actors [UNK] [UNK] [UNK] [UNK] [UNK] [UNK] always played [UNK] of [UNK] [UNK] [UNK] [UNK] [UNK] this [UNK] has a [UNK] of comedy to it the [UNK] are always [UNK] [UNK] at each other and even [UNK] and his [UNK] are [UNK] [UNK] some fun [UNK] [UNK] even takes the man they [UNK] along on a [UNK] with his [UNK] theres a lot of fun stuff in here so get past the slow beginning and wait for the [UNK] stuff later on dont want to give away any [UNK] so youll have to [UNK] it on [UNK] classic movies director [UNK] [UNK] made mostly [UNK] and was [UNK] [UNK] to [UNK] at some point                                                                                                                                                                                                                                                                                                                                                                                                                                                                                                                                                                                                                                                                                  \n",
      "----------------------------------------------------------------------------------------------------\n",
      "\n",
      "Original:  b\"I first saw this movie when I was a freshman in high school, and the film has stuck with me through the years. It's not about the soundtrack, or cinematography, or even the dialogue and somewhat bad acting, it's about the educational purpose, and the message behind that is the most important. It's not a sin to have a child when you're a teenager and still in high school, and it's not really a bad thing, either, but it is a problem. Tons of girls I knew are all having children now, and I guess they never watched this great movie, and if they did, they clearly didn't get the message behind it all. It's about not taking chances when you're in a sexual relationship. Any girl can get pregnant the first time. It's not a myth. You don't necessarily lose out on your dreams, but they do have to take a backseat in your future because you have a child to think about first.<br /><br />This movie has a clear message behind it: JUST SAY NO!\"\n",
      "\n",
      "Round-trip:  i first saw this movie when i was a [UNK] in high school and the film has [UNK] with me through the years its not about the soundtrack or cinematography or even the dialogue and somewhat bad acting its about the [UNK] [UNK] and the message behind that is the most important its not a [UNK] to have a child when youre a [UNK] and still in high school and its not really a bad thing either but it is a problem [UNK] of girls i knew are all having children now and i guess they never watched this great movie and if they did they clearly didnt get the message behind it all its about not taking [UNK] when youre in a sexual relationship any girl can get [UNK] the first time its not a [UNK] you dont [UNK] [UNK] out on your [UNK] but they do have to take a [UNK] in your future because you have a child to think about [UNK] br this movie has a clear message behind it just say no                                                                                                                                                                                                                                                                                                                                                                                                                                                                                                                                                                                                                                                                                       \n",
      "----------------------------------------------------------------------------------------------------\n",
      "\n"
     ]
    }
   ],
   "source": [
    "for n in range(3):\n",
    "  print(\"Original: \", example[n].numpy())\n",
    "  print()\n",
    "  print(\"Round-trip: \", \" \".join(vocab[encoded_example[n]]))\n",
    "  print('----------------------------------------------------------------------------------------------------')\n",
    "  print()"
   ]
  },
  {
   "cell_type": "markdown",
   "metadata": {
    "id": "bjUqGVBxGw-t"
   },
   "source": [
    "## Create the model"
   ]
  },
  {
   "cell_type": "code",
   "execution_count": null,
   "metadata": {
    "id": "W7zsmInBOCPO"
   },
   "outputs": [],
   "source": [
    "# ![A drawing of the information flow in the model](../Bilder/bidirectional.jpg)"
   ]
  },
  {
   "cell_type": "markdown",
   "metadata": {
    "id": "bgs6nnSTGw-t"
   },
   "source": [
    "Above is a diagram of the model. \n",
    "\n",
    "1. This model can be build as a `tf.keras.Sequential`.\n",
    "\n",
    "2. The first layer is the `encoder`, which converts the text to a sequence of token indices.\n",
    "\n",
    "3. After the encoder is an embedding layer. An embedding layer stores one vector per word. When called, it converts the sequences of word indices to sequences of vectors. These vectors are trainable. After training (on enough data), words with similar meanings often have similar vectors.\n",
    "\n",
    "  This index-lookup is much more efficient than the equivalent operation of passing a one-hot encoded vector through a `tf.keras.layers.Dense` layer.\n",
    "\n",
    "4. A recurrent neural network (RNN) processes sequence input by iterating through the elements. RNNs pass the outputs from one timestep to their input on the next timestep.\n",
    "\n",
    "  The `tf.keras.layers.Bidirectional` wrapper can also be used with an RNN layer. This propagates the input forward and backwards through the RNN layer and then concatenates the final output. \n",
    "\n",
    "  * The main advantage of a bidirectional RNN is that the signal from the beginning of the input doesn't need to be processed all the way through every timestep to affect the output.  \n",
    "\n",
    "  * The main disadvantage of a bidirectional RNN is that you can't efficiently stream predictions as words are being added to the end.\n",
    "\n",
    "5. After the RNN has converted the sequence to a single vector the two `layers.Dense` do some final processing, and convert from this vector representation to a single logit as the classification output. \n"
   ]
  },
  {
   "cell_type": "markdown",
   "metadata": {
    "id": "V4fodCI7soQi"
   },
   "source": [
    "The code to implement this is below:"
   ]
  },
  {
   "cell_type": "code",
   "execution_count": 14,
   "metadata": {
    "execution": {
     "iopub.execute_input": "2022-04-05T11:09:00.954934Z",
     "iopub.status.busy": "2022-04-05T11:09:00.954389Z",
     "iopub.status.idle": "2022-04-05T11:09:02.517462Z",
     "shell.execute_reply": "2022-04-05T11:09:02.516860Z"
    },
    "id": "LwfoBkmRYcP3"
   },
   "outputs": [],
   "source": [
    "model = tf.keras.Sequential([\n",
    "    encoder,\n",
    "    tf.keras.layers.Embedding(input_dim=VOCAB_SIZE,\n",
    "                              output_dim=64,\n",
    "                              # Use masking to handle the variable sequence lengths\n",
    "                              mask_zero=True),\n",
    "    tf.keras.layers.Bidirectional(tf.keras.layers.LSTM(64)),\n",
    "    tf.keras.layers.Dense(64, activation='relu'),\n",
    "    tf.keras.layers.Dense(1)\n",
    "])"
   ]
  },
  {
   "cell_type": "markdown",
   "metadata": {
    "id": "kF-PsCk1LwjY"
   },
   "source": [
    "The embedding layer [uses masking](https://www.tensorflow.org/guide/keras/masking_and_padding) to handle the varying sequence-lengths. All the layers after the `Embedding` support masking:"
   ]
  },
  {
   "cell_type": "code",
   "execution_count": 15,
   "metadata": {
    "execution": {
     "iopub.execute_input": "2022-04-05T11:09:02.521653Z",
     "iopub.status.busy": "2022-04-05T11:09:02.521443Z",
     "iopub.status.idle": "2022-04-05T11:09:02.525737Z",
     "shell.execute_reply": "2022-04-05T11:09:02.525074Z"
    },
    "id": "87a8-CwfKebw"
   },
   "outputs": [
    {
     "name": "stdout",
     "output_type": "stream",
     "text": [
      "[False, True, True, True, True]\n"
     ]
    }
   ],
   "source": [
    "print([layer.supports_masking for layer in model.layers])"
   ]
  },
  {
   "cell_type": "markdown",
   "metadata": {
    "id": "ZlS0iaUIWLpI"
   },
   "source": [
    "To confirm that this works as expected, evaluate a sentence twice. First, alone so there's no padding to mask:"
   ]
  },
  {
   "cell_type": "code",
   "execution_count": 18,
   "metadata": {
    "execution": {
     "iopub.execute_input": "2022-04-05T11:09:02.528931Z",
     "iopub.status.busy": "2022-04-05T11:09:02.528746Z",
     "iopub.status.idle": "2022-04-05T11:09:08.599833Z",
     "shell.execute_reply": "2022-04-05T11:09:08.598929Z"
    },
    "id": "O41gw3KfWHus"
   },
   "outputs": [
    {
     "name": "stdout",
     "output_type": "stream",
     "text": [
      "1/1 [==============================] - 0s 19ms/step\n",
      "[0.00292506]\n"
     ]
    }
   ],
   "source": [
    "# predict on a sample text without padding.\n",
    "\n",
    "sample_text = ('The movie was cool. The animation and the graphics '\n",
    "               'were out of this world. I would recommend this movie.')\n",
    "predictions = model.predict(np.array([sample_text]))\n",
    "print(predictions[0])"
   ]
  },
  {
   "cell_type": "markdown",
   "metadata": {
    "id": "K0VQmGnEWcuz"
   },
   "source": [
    "Now, evaluate it again in a batch that additionally contains a longer sentence. The result should be identical:"
   ]
  },
  {
   "cell_type": "code",
   "execution_count": 19,
   "metadata": {
    "execution": {
     "iopub.execute_input": "2022-04-05T11:09:08.603723Z",
     "iopub.status.busy": "2022-04-05T11:09:08.603135Z",
     "iopub.status.idle": "2022-04-05T11:09:08.769155Z",
     "shell.execute_reply": "2022-04-05T11:09:08.768473Z"
    },
    "id": "UIgpuTeFNDzq"
   },
   "outputs": [
    {
     "name": "stdout",
     "output_type": "stream",
     "text": [
      "1/1 [==============================] - 0s 268ms/step\n",
      "[0.00292506]\n"
     ]
    }
   ],
   "source": [
    "# predict on a sample text with padding\n",
    "\n",
    "padding = \"the \" * 2000\n",
    "predictions = model.predict(np.array([sample_text, padding]))\n",
    "print(predictions[0])"
   ]
  },
  {
   "cell_type": "markdown",
   "metadata": {
    "id": "sRI776ZcH3Tf"
   },
   "source": [
    "Compile the Keras model to configure the training process:"
   ]
  },
  {
   "cell_type": "code",
   "execution_count": 20,
   "metadata": {
    "execution": {
     "iopub.execute_input": "2022-04-05T11:09:08.772981Z",
     "iopub.status.busy": "2022-04-05T11:09:08.772575Z",
     "iopub.status.idle": "2022-04-05T11:09:08.785616Z",
     "shell.execute_reply": "2022-04-05T11:09:08.784770Z"
    },
    "id": "kj2xei41YZjC"
   },
   "outputs": [],
   "source": [
    "model.compile(loss=tf.keras.losses.BinaryCrossentropy(from_logits=True),\n",
    "              optimizer=tf.keras.optimizers.Adam(1e-4),\n",
    "              metrics=['accuracy'])"
   ]
  },
  {
   "cell_type": "markdown",
   "metadata": {
    "id": "zIwH3nto596k"
   },
   "source": [
    "## Train the model"
   ]
  },
  {
   "cell_type": "code",
   "execution_count": null,
   "metadata": {
    "execution": {
     "iopub.execute_input": "2022-04-05T11:09:08.789543Z",
     "iopub.status.busy": "2022-04-05T11:09:08.789017Z",
     "iopub.status.idle": "2022-04-05T11:14:26.672101Z",
     "shell.execute_reply": "2022-04-05T11:14:26.671445Z"
    },
    "id": "hw86wWS4YgR2"
   },
   "outputs": [],
   "source": [
    "history = model.fit(train_dataset, epochs=10,\n",
    "                    validation_data=test_dataset,\n",
    "                    validation_steps=30)"
   ]
  },
  {
   "cell_type": "code",
   "execution_count": null,
   "metadata": {
    "execution": {
     "iopub.execute_input": "2022-04-05T11:14:26.675786Z",
     "iopub.status.busy": "2022-04-05T11:14:26.675392Z",
     "iopub.status.idle": "2022-04-05T11:14:41.004483Z",
     "shell.execute_reply": "2022-04-05T11:14:41.003831Z"
    },
    "id": "BaNbXi43YgUT"
   },
   "outputs": [],
   "source": [
    "test_loss, test_acc = model.evaluate(test_dataset)\n",
    "\n",
    "print('Test Loss:', test_loss)\n",
    "print('Test Accuracy:', test_acc)"
   ]
  },
  {
   "cell_type": "code",
   "execution_count": null,
   "metadata": {
    "execution": {
     "iopub.execute_input": "2022-04-05T11:14:41.007809Z",
     "iopub.status.busy": "2022-04-05T11:14:41.007366Z",
     "iopub.status.idle": "2022-04-05T11:14:41.306819Z",
     "shell.execute_reply": "2022-04-05T11:14:41.306126Z"
    },
    "id": "OZmwt_mzaQJk"
   },
   "outputs": [],
   "source": [
    "plt.figure(figsize=(16, 8))\n",
    "plt.subplot(1, 2, 1)\n",
    "plot_graphs(history, 'accuracy')\n",
    "plt.ylim(None, 1)\n",
    "plt.subplot(1, 2, 2)\n",
    "plot_graphs(history, 'loss')\n",
    "plt.ylim(0, None)"
   ]
  },
  {
   "cell_type": "markdown",
   "metadata": {
    "id": "DwSE_386uhxD"
   },
   "source": [
    "Run a prediction on a new sentence:\n",
    "\n",
    "If the prediction is >= 0.0, it is positive else it is negative."
   ]
  },
  {
   "cell_type": "code",
   "execution_count": null,
   "metadata": {
    "execution": {
     "iopub.execute_input": "2022-04-05T11:14:41.310342Z",
     "iopub.status.busy": "2022-04-05T11:14:41.309922Z",
     "iopub.status.idle": "2022-04-05T11:14:43.743957Z",
     "shell.execute_reply": "2022-04-05T11:14:43.743292Z"
    },
    "id": "ZXgfQSgRW6zU"
   },
   "outputs": [],
   "source": [
    "sample_text = ('The movie was cool. The animation and the graphics '\n",
    "               'were out of this world. I would recommend this movie.')\n",
    "predictions = model.predict(np.array([sample_text]))"
   ]
  },
  {
   "cell_type": "markdown",
   "metadata": {
    "id": "7g1evcaRpTKm"
   },
   "source": [
    "## Stack two or more LSTM layers\n",
    "\n",
    "Keras recurrent layers have two available modes that are controlled by the `return_sequences` constructor argument:\n",
    "\n",
    "* If `False` it returns only the last output for each input sequence (a 2D tensor of shape (batch_size, output_features)). This is the default, used in the previous model.\n",
    "\n",
    "* If `True` the full sequences of successive outputs for each timestep is returned (a 3D tensor of shape `(batch_size, timesteps, output_features)`).\n",
    "\n",
    "Here is what the flow of information looks like with `return_sequences=True`:\n",
    "\n",
    "![layered_bidirectional](../Bilder/layered_bidirectional.png)"
   ]
  },
  {
   "cell_type": "markdown",
   "metadata": {
    "id": "wbSClCrG1z8l"
   },
   "source": [
    "The interesting thing about using an `RNN` with `return_sequences=True` is that the output still has 3-axes, like the input, so it can be passed to another RNN layer, like this:"
   ]
  },
  {
   "cell_type": "code",
   "execution_count": 22,
   "metadata": {
    "execution": {
     "iopub.execute_input": "2022-04-05T11:14:43.748032Z",
     "iopub.status.busy": "2022-04-05T11:14:43.747603Z",
     "iopub.status.idle": "2022-04-05T11:14:46.598105Z",
     "shell.execute_reply": "2022-04-05T11:14:46.597461Z"
    },
    "id": "jo1jjO3vn0jo"
   },
   "outputs": [],
   "source": [
    "model = tf.keras.Sequential([\n",
    "    encoder,\n",
    "    tf.keras.layers.Embedding(VOCAB_SIZE, 64, mask_zero=True),\n",
    "    tf.keras.layers.Bidirectional(tf.keras.layers.LSTM(64, return_sequences=True)),\n",
    "    tf.keras.layers.Bidirectional(tf.keras.layers.LSTM(32)),\n",
    "    tf.keras.layers.Dense(64, activation='relu'),\n",
    "    tf.keras.layers.Dropout(0.5),\n",
    "    tf.keras.layers.Dense(1)\n",
    "])"
   ]
  },
  {
   "cell_type": "code",
   "execution_count": 23,
   "metadata": {
    "execution": {
     "iopub.execute_input": "2022-04-05T11:14:46.602098Z",
     "iopub.status.busy": "2022-04-05T11:14:46.601552Z",
     "iopub.status.idle": "2022-04-05T11:14:46.609032Z",
     "shell.execute_reply": "2022-04-05T11:14:46.608535Z"
    },
    "id": "hEPV5jVGp-is"
   },
   "outputs": [],
   "source": [
    "model.compile(loss=tf.keras.losses.BinaryCrossentropy(from_logits=True),\n",
    "              optimizer=tf.keras.optimizers.Adam(1e-4),\n",
    "              metrics=['accuracy'])"
   ]
  },
  {
   "cell_type": "code",
   "execution_count": null,
   "metadata": {
    "execution": {
     "iopub.execute_input": "2022-04-05T11:14:46.612025Z",
     "iopub.status.busy": "2022-04-05T11:14:46.611535Z",
     "iopub.status.idle": "2022-04-05T11:23:47.832110Z",
     "shell.execute_reply": "2022-04-05T11:23:47.831373Z"
    },
    "id": "LeSE-YjdqAeN"
   },
   "outputs": [],
   "source": [
    "history = model.fit(train_dataset, epochs=10,\n",
    "                    validation_data=test_dataset,\n",
    "                    validation_steps=30)"
   ]
  },
  {
   "cell_type": "code",
   "execution_count": null,
   "metadata": {
    "execution": {
     "iopub.execute_input": "2022-04-05T11:23:47.835924Z",
     "iopub.status.busy": "2022-04-05T11:23:47.835438Z",
     "iopub.status.idle": "2022-04-05T11:24:12.097443Z",
     "shell.execute_reply": "2022-04-05T11:24:12.096771Z"
    },
    "id": "_LdwilM1qPM3"
   },
   "outputs": [],
   "source": [
    "test_loss, test_acc = model.evaluate(test_dataset)\n",
    "\n",
    "print('Test Loss:', test_loss)\n",
    "print('Test Accuracy:', test_acc)"
   ]
  },
  {
   "cell_type": "code",
   "execution_count": null,
   "metadata": {
    "execution": {
     "iopub.execute_input": "2022-04-05T11:24:12.100809Z",
     "iopub.status.busy": "2022-04-05T11:24:12.100224Z",
     "iopub.status.idle": "2022-04-05T11:24:16.419040Z",
     "shell.execute_reply": "2022-04-05T11:24:16.418327Z"
    },
    "id": "ykUKnAoqbycW"
   },
   "outputs": [],
   "source": [
    "# predict on a sample text without padding.\n",
    "\n",
    "sample_text = ('The movie was not good. The animation and the graphics '\n",
    "               'were terrible. I would not recommend this movie.')\n",
    "predictions = model.predict(np.array([sample_text]))\n",
    "print(predictions)"
   ]
  },
  {
   "cell_type": "code",
   "execution_count": null,
   "metadata": {
    "execution": {
     "iopub.execute_input": "2022-04-05T11:24:16.422721Z",
     "iopub.status.busy": "2022-04-05T11:24:16.422130Z",
     "iopub.status.idle": "2022-04-05T11:24:16.650288Z",
     "shell.execute_reply": "2022-04-05T11:24:16.649603Z"
    },
    "id": "_YYub0EDtwCu"
   },
   "outputs": [],
   "source": [
    "plt.figure(figsize=(16, 6))\n",
    "plt.subplot(1, 2, 1)\n",
    "plot_graphs(history, 'accuracy')\n",
    "plt.subplot(1, 2, 2)\n",
    "plot_graphs(history, 'loss')"
   ]
  },
  {
   "cell_type": "markdown",
   "metadata": {
    "id": "9xvpE3BaGw_V"
   },
   "source": [
    "Check out other existing recurrent layers such as [GRU layers](https://www.tensorflow.org/api_docs/python/tf/keras/layers/GRU).\n",
    "\n",
    "If you're interested in building custom RNNs, see the [Keras RNN Guide](https://www.tensorflow.org/guide/keras/rnn).\n"
   ]
  },
  {
   "cell_type": "markdown",
   "metadata": {
    "id": "hX4n9TsbGw-f"
   },
   "source": [
    "##### Copyright 2018 The TensorFlow Authors."
   ]
  },
  {
   "cell_type": "code",
   "execution_count": null,
   "metadata": {
    "cellView": "form",
    "execution": {
     "iopub.execute_input": "2022-04-05T11:08:43.149995Z",
     "iopub.status.busy": "2022-04-05T11:08:43.149720Z",
     "iopub.status.idle": "2022-04-05T11:08:43.154347Z",
     "shell.execute_reply": "2022-04-05T11:08:43.153660Z"
    },
    "id": "0nbI5DtDGw-i"
   },
   "outputs": [],
   "source": [
    "#@title Licensed under the Apache License, Version 2.0 (the \"License\");\n",
    "# you may not use this file except in compliance with the License.\n",
    "# You may obtain a copy of the License at\n",
    "#\n",
    "# https://www.apache.org/licenses/LICENSE-2.0\n",
    "#\n",
    "# Unless required by applicable law or agreed to in writing, software\n",
    "# distributed under the License is distributed on an \"AS IS\" BASIS,\n",
    "# WITHOUT WARRANTIES OR CONDITIONS OF ANY KIND, either express or implied.\n",
    "# See the License for the specific language governing permissions and\n",
    "# limitations under the License."
   ]
  },
  {
   "cell_type": "code",
   "execution_count": null,
   "metadata": {},
   "outputs": [],
   "source": []
  }
 ],
 "metadata": {
  "accelerator": "GPU",
  "colab": {
   "collapsed_sections": [],
   "name": "text_classification_rnn.ipynb",
   "provenance": [],
   "toc_visible": true
  },
  "kernelspec": {
   "display_name": "Python 3.9.12 ('tensorflow')",
   "language": "python",
   "name": "python3"
  },
  "language_info": {
   "codemirror_mode": {
    "name": "ipython",
    "version": 3
   },
   "file_extension": ".py",
   "mimetype": "text/x-python",
   "name": "python",
   "nbconvert_exporter": "python",
   "pygments_lexer": "ipython3",
   "version": "3.9.12"
  },
  "vscode": {
   "interpreter": {
    "hash": "a556c98edf2c5a3807e5c547e7b9b4eaf7a34f7f9898c366b34cd41a41f16e53"
   }
  }
 },
 "nbformat": 4,
 "nbformat_minor": 0
}
