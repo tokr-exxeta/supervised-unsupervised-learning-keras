{
 "cells": [
  {
   "cell_type": "markdown",
   "id": "5fdc54cb",
   "metadata": {},
   "source": [
    "## Use Case - Clustering zur Segmentierung von Blumenarten in einem ungelabelten Dataset\n",
    "Clustering ist eine Form des Unsupervised Learnings. Im Gegensatz zu dem schon bekannten Supervised Learning hat man keine gelabelten Daten zur Verfügung. Das heißt, dass die von dem Clustering vorhergesagten Label allein durch die Ähnlichkeit verschiedener Datenobjekte zueinander festgelegt werden."
   ]
  },
  {
   "cell_type": "code",
   "execution_count": null,
   "id": "7e110c2a",
   "metadata": {},
   "outputs": [],
   "source": [
    "# imports\n",
    "import pandas as pd\n",
    "import seaborn as sns\n",
    "import plotly.express as px"
   ]
  },
  {
   "cell_type": "code",
   "execution_count": null,
   "id": "42fb625e",
   "metadata": {},
   "outputs": [],
   "source": [
    "# Dataset laden\n",
    "iris = sns.load_dataset('iris')"
   ]
  },
  {
   "cell_type": "markdown",
   "id": "12ccc250",
   "metadata": {},
   "source": [
    "Lassen Sie sich die ersten Zeilen des Datasets mit iris.head() ausgeben."
   ]
  },
  {
   "cell_type": "code",
   "execution_count": null,
   "id": "6b980ab9",
   "metadata": {},
   "outputs": [],
   "source": [
    "## Ihr Code"
   ]
  },
  {
   "cell_type": "markdown",
   "id": "593f35c9",
   "metadata": {},
   "source": [
    "Im Gegensatz zum Supervised Learning können wir bei dem Unsupervised Learning keinen Train-/Test-Split machen um die Güte eines Modells zu evaluieren. Extrahieren Sie deswegen alle Features (ohne Target) und speichern Sie diese in X."
   ]
  },
  {
   "cell_type": "code",
   "execution_count": null,
   "id": "c26e0f47",
   "metadata": {},
   "outputs": [],
   "source": [
    "X = ## Ihr Code"
   ]
  },
  {
   "cell_type": "markdown",
   "id": "c15d68d1",
   "metadata": {},
   "source": [
    "Nun können Sie den Clustering-Algorithmus auf die Daten anwenden. Dies geht wie folgt:"
   ]
  },
  {
   "cell_type": "code",
   "execution_count": null,
   "id": "eeb70f14",
   "metadata": {},
   "outputs": [],
   "source": [
    "from sklearn.cluster import KMeans\n",
    "\n",
    "cluster = KMeans(3)\n",
    "cluster.fit(X)"
   ]
  },
  {
   "cell_type": "markdown",
   "id": "b95192c3",
   "metadata": {},
   "source": [
    "Nachdem wir den Clustering-Algorithmus angewandt haben können wir uns die Cluster Labels ausgeben lassen."
   ]
  },
  {
   "cell_type": "code",
   "execution_count": null,
   "id": "1a66c602",
   "metadata": {},
   "outputs": [],
   "source": [
    "cluster.labels_"
   ]
  },
  {
   "cell_type": "code",
   "execution_count": null,
   "id": "47fa10d7",
   "metadata": {},
   "outputs": [],
   "source": [
    "iris['labels'] = cluster.labels_"
   ]
  },
  {
   "cell_type": "markdown",
   "id": "ba8c8c53",
   "metadata": {},
   "source": [
    "Sehen wir uns nun an wie unser Clustering performt."
   ]
  },
  {
   "cell_type": "code",
   "execution_count": null,
   "id": "d046bc41",
   "metadata": {},
   "outputs": [],
   "source": [
    "px.scatter(iris,x='petal_length',y='petal_width',color='labels')"
   ]
  },
  {
   "cell_type": "markdown",
   "id": "022ac8a7",
   "metadata": {},
   "source": [
    "Versuchen Sie es nun mit einem DBSCAN-Algorithmus. Ergänzen Sie den fehlenden Code wie Sie es vom KMeans Clustering kennen und lassen Sie sich einen Scatterplot mit den gelabelten Daten ausgeben."
   ]
  },
  {
   "cell_type": "code",
   "execution_count": null,
   "id": "a3ffaa8d",
   "metadata": {},
   "outputs": [],
   "source": [
    "from sklearn.cluster import DBSCAN\n",
    "cluster = DBSCAN(eps=1, min_samples=3)\n",
    "##Ihr Code"
   ]
  }
 ],
 "metadata": {
  "kernelspec": {
   "display_name": "Python 3",
   "language": "python",
   "name": "python3"
  },
  "language_info": {
   "codemirror_mode": {
    "name": "ipython",
    "version": 3
   },
   "file_extension": ".py",
   "mimetype": "text/x-python",
   "name": "python",
   "nbconvert_exporter": "python",
   "pygments_lexer": "ipython3",
   "version": "3.8.8"
  }
 },
 "nbformat": 4,
 "nbformat_minor": 5
}
