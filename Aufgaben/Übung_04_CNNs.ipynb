{
  "cells": [
    {
      "cell_type": "markdown",
      "id": "ee156686",
      "metadata": {
        "id": "ee156686"
      },
      "source": [
        "## Imports"
      ]
    },
    {
      "cell_type": "code",
      "execution_count": null,
      "id": "89b51aae",
      "metadata": {
        "id": "89b51aae"
      },
      "outputs": [],
      "source": [
        "import tensorflow as tf\n",
        "import tensorflow.keras as keras\n",
        "import matplotlib.pyplot as plt\n",
        "import seaborn as sns"
      ]
    },
    {
      "cell_type": "code",
      "execution_count": null,
      "id": "6u4wzR6jUd98",
      "metadata": {
        "id": "6u4wzR6jUd98"
      },
      "outputs": [],
      "source": [
        "def plot_results(epochs, history, metric='accuracy'):\n",
        "    plt.figure(figsize=(10, 6))\n",
        "    sns.lineplot(x=range(epochs), y=history.history['loss'], label='train_loss')\n",
        "    sns.lineplot(x=range(epochs), y=history.history['val_loss'], label='val_loss')\n",
        "    plt.show()\n",
        "\n",
        "    plt.figure(figsize=(10, 6))\n",
        "    sns.lineplot(x=range(epochs), y=history.history[metric], label=f'Train {metric}')\n",
        "    sns.lineplot(x=range(epochs), y=history.history[f'val_{metric}'], label=f'Validation {metric}')\n",
        "    plt.show()"
      ]
    },
    {
      "cell_type": "code",
      "execution_count": null,
      "id": "57fecdca",
      "metadata": {
        "colab": {
          "base_uri": "https://localhost:8080/"
        },
        "id": "57fecdca",
        "outputId": "24382817-36cb-427f-9e40-9dad0c47c2b5"
      },
      "outputs": [],
      "source": [
        "print(\"Num GPUs Available: \", len(tf.config.list_physical_devices('GPU')))"
      ]
    },
    {
      "cell_type": "markdown",
      "id": "897d0330",
      "metadata": {
        "id": "897d0330"
      },
      "source": [
        "## Daten einlesen"
      ]
    },
    {
      "cell_type": "code",
      "execution_count": null,
      "id": "81f6cd97",
      "metadata": {
        "colab": {
          "base_uri": "https://localhost:8080/"
        },
        "id": "81f6cd97",
        "outputId": "9c20fb88-19b6-4f6a-ad5e-e88773f25df1"
      },
      "outputs": [],
      "source": [
        "(X_train_full, y_train_full), (X_test, y_test) = keras.datasets.mnist.load_data()"
      ]
    },
    {
      "cell_type": "code",
      "execution_count": null,
      "id": "55f5a021",
      "metadata": {
        "colab": {
          "base_uri": "https://localhost:8080/"
        },
        "id": "55f5a021",
        "outputId": "45c24b7a-1095-499e-c4d4-a69af3341c05"
      },
      "outputs": [],
      "source": [
        "X_train_full.shape"
      ]
    },
    {
      "cell_type": "code",
      "execution_count": null,
      "id": "104404b6",
      "metadata": {
        "colab": {
          "base_uri": "https://localhost:8080/"
        },
        "id": "104404b6",
        "outputId": "a4cc6940-56db-4c55-97de-30b61eb76c6d"
      },
      "outputs": [],
      "source": [
        "y_train_full.shape"
      ]
    },
    {
      "cell_type": "code",
      "execution_count": null,
      "id": "7c2387e0",
      "metadata": {
        "colab": {
          "base_uri": "https://localhost:8080/",
          "height": 281
        },
        "id": "7c2387e0",
        "outputId": "edcedafd-1318-4f6d-f1e6-75959882cdd4"
      },
      "outputs": [],
      "source": [
        "plt.imshow(X_train_full[0], cmap='gray')\n",
        "plt.title(label=y_train_full[0])\n",
        "plt.show()"
      ]
    },
    {
      "cell_type": "markdown",
      "id": "92d234b5",
      "metadata": {
        "id": "92d234b5"
      },
      "source": [
        "## Train-/Test split & Normalisierung"
      ]
    },
    {
      "cell_type": "code",
      "execution_count": null,
      "id": "95d0810f",
      "metadata": {
        "id": "95d0810f"
      },
      "outputs": [],
      "source": [
        "# Code\n",
        "\n",
        "\n",
        "# Durch 255 Teilen um Farbwerte zwischen 0-1 zu skalieren"
      ]
    },
    {
      "cell_type": "markdown",
      "id": "1ec047a8",
      "metadata": {
        "id": "1ec047a8"
      },
      "source": [
        "## Modellierung - CNN bauen"
      ]
    },
    {
      "cell_type": "code",
      "execution_count": null,
      "id": "d6e17f3c",
      "metadata": {
        "id": "d6e17f3c"
      },
      "outputs": [],
      "source": [
        "model = keras.models.Sequential([\n",
        "    keras.Input(shape=[28,28,1]),\n",
        "    # Code\n",
        "    keras.layers.Dense(10, activation=\"softmax\")\n",
        "])"
      ]
    },
    {
      "cell_type": "code",
      "execution_count": null,
      "id": "05438d77",
      "metadata": {
        "colab": {
          "base_uri": "https://localhost:8080/"
        },
        "id": "05438d77",
        "outputId": "5760081b-6302-4bfa-aa34-db3c7919e00e"
      },
      "outputs": [],
      "source": [
        "model.summary()"
      ]
    },
    {
      "cell_type": "code",
      "execution_count": null,
      "id": "1cad16b0",
      "metadata": {
        "id": "1cad16b0"
      },
      "outputs": [],
      "source": [
        "model.compile(loss='sparse_categorical_crossentropy', optimizer=\"sgd\",metrics=[\"accuracy\"])"
      ]
    },
    {
      "cell_type": "code",
      "execution_count": null,
      "id": "26bc7e8e",
      "metadata": {
        "id": "26bc7e8e"
      },
      "outputs": [],
      "source": [
        "X_train = X_train.reshape((-1,28,28,1))\n",
        "X_valid = X_valid.reshape((-1,28,28,1))\n",
        "X_test = X_test.reshape((-1,28,28,1))"
      ]
    },
    {
      "cell_type": "code",
      "execution_count": null,
      "id": "EFlUi0O2UmZ-",
      "metadata": {
        "id": "EFlUi0O2UmZ-"
      },
      "outputs": [],
      "source": [
        "EPOCHS = 20\n",
        "BATCHSIZE = 32"
      ]
    },
    {
      "cell_type": "code",
      "execution_count": null,
      "id": "331eb9d6",
      "metadata": {
        "colab": {
          "base_uri": "https://localhost:8080/"
        },
        "id": "331eb9d6",
        "outputId": "a5f56d2a-aef9-4a1b-e8cf-93cc7a5e2541"
      },
      "outputs": [],
      "source": [
        "history = model.fit(X_train,y_train, batch_size=BATCHSIZE, epochs=EPOCHS, validation_data = (X_valid, y_valid))"
      ]
    },
    {
      "cell_type": "code",
      "execution_count": null,
      "id": "392dc72c",
      "metadata": {
        "colab": {
          "base_uri": "https://localhost:8080/",
          "height": 731
        },
        "id": "392dc72c",
        "outputId": "9ab23795-63d4-4969-8c2f-fd79ae5dae5b"
      },
      "outputs": [],
      "source": [
        "plot_results(EPOCHS, history)"
      ]
    },
    {
      "cell_type": "code",
      "execution_count": null,
      "id": "J0ArWe_MWJjd",
      "metadata": {
        "id": "J0ArWe_MWJjd"
      },
      "outputs": [],
      "source": []
    }
  ],
  "metadata": {
    "accelerator": "GPU",
    "colab": {
      "name": "Übung_04_CNN's.ipynb",
      "provenance": []
    },
    "gpuClass": "standard",
    "kernelspec": {
      "display_name": "Python 3.9.12 ('tensorflow')",
      "language": "python",
      "name": "python3"
    },
    "language_info": {
      "codemirror_mode": {
        "name": "ipython",
        "version": 3
      },
      "file_extension": ".py",
      "mimetype": "text/x-python",
      "name": "python",
      "nbconvert_exporter": "python",
      "pygments_lexer": "ipython3",
      "version": "3.9.12"
    },
    "vscode": {
      "interpreter": {
        "hash": "a556c98edf2c5a3807e5c547e7b9b4eaf7a34f7f9898c366b34cd41a41f16e53"
      }
    }
  },
  "nbformat": 4,
  "nbformat_minor": 5
}
