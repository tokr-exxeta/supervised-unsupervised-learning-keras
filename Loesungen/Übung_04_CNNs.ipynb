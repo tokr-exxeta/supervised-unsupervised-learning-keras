{
  "cells": [
    {
      "cell_type": "markdown",
      "id": "ee156686",
      "metadata": {
        "id": "ee156686"
      },
      "source": [
        "## Imports"
      ]
    },
    {
      "cell_type": "code",
      "execution_count": 16,
      "id": "89b51aae",
      "metadata": {
        "id": "89b51aae"
      },
      "outputs": [],
      "source": [
        "import tensorflow as tf\n",
        "import tensorflow.keras as keras\n",
        "import matplotlib.pyplot as plt\n",
        "import seaborn as sns"
      ]
    },
    {
      "cell_type": "code",
      "execution_count": 15,
      "id": "6u4wzR6jUd98",
      "metadata": {
        "id": "6u4wzR6jUd98"
      },
      "outputs": [],
      "source": [
        "def plot_results(epochs, history, metric='accuracy'):\n",
        "    plt.figure(figsize=(10, 6))\n",
        "    sns.lineplot(x=range(epochs), y=history.history['loss'], label='train_loss')\n",
        "    sns.lineplot(x=range(epochs), y=history.history['val_loss'], label='val_loss')\n",
        "    plt.show()\n",
        "\n",
        "    plt.figure(figsize=(10, 6))\n",
        "    sns.lineplot(x=range(epochs), y=history.history[metric], label=f'Train {metric}')\n",
        "    sns.lineplot(x=range(epochs), y=history.history[f'val_{metric}'], label=f'Validation {metric}')\n",
        "    plt.show()"
      ]
    },
    {
      "cell_type": "code",
      "execution_count": 2,
      "id": "57fecdca",
      "metadata": {
        "colab": {
          "base_uri": "https://localhost:8080/"
        },
        "id": "57fecdca",
        "outputId": "24382817-36cb-427f-9e40-9dad0c47c2b5"
      },
      "outputs": [
        {
          "name": "stdout",
          "output_type": "stream",
          "text": [
            "Num GPUs Available:  1\n"
          ]
        }
      ],
      "source": [
        "print(\"Num GPUs Available: \", len(tf.config.list_physical_devices('GPU')))"
      ]
    },
    {
      "cell_type": "markdown",
      "id": "897d0330",
      "metadata": {
        "id": "897d0330"
      },
      "source": [
        "## Daten einlesen"
      ]
    },
    {
      "cell_type": "code",
      "execution_count": 4,
      "id": "81f6cd97",
      "metadata": {
        "colab": {
          "base_uri": "https://localhost:8080/"
        },
        "id": "81f6cd97",
        "outputId": "9c20fb88-19b6-4f6a-ad5e-e88773f25df1"
      },
      "outputs": [
        {
          "name": "stdout",
          "output_type": "stream",
          "text": [
            "Downloading data from https://storage.googleapis.com/tensorflow/tf-keras-datasets/mnist.npz\n",
            "11493376/11490434 [==============================] - 0s 0us/step\n",
            "11501568/11490434 [==============================] - 0s 0us/step\n"
          ]
        }
      ],
      "source": [
        "(X_train_full, y_train_full), (X_test, y_test) = keras.datasets.mnist.load_data()"
      ]
    },
    {
      "cell_type": "code",
      "execution_count": 14,
      "id": "55f5a021",
      "metadata": {
        "colab": {
          "base_uri": "https://localhost:8080/"
        },
        "id": "55f5a021",
        "outputId": "45c24b7a-1095-499e-c4d4-a69af3341c05"
      },
      "outputs": [
        {
          "data": {
            "text/plain": [
              "(60000, 28, 28)"
            ]
          },
          "execution_count": 14,
          "metadata": {},
          "output_type": "execute_result"
        }
      ],
      "source": [
        "X_train_full.shape"
      ]
    },
    {
      "cell_type": "code",
      "execution_count": 6,
      "id": "104404b6",
      "metadata": {
        "colab": {
          "base_uri": "https://localhost:8080/"
        },
        "id": "104404b6",
        "outputId": "a4cc6940-56db-4c55-97de-30b61eb76c6d"
      },
      "outputs": [
        {
          "data": {
            "text/plain": [
              "(60000,)"
            ]
          },
          "execution_count": 6,
          "metadata": {},
          "output_type": "execute_result"
        }
      ],
      "source": [
        "y_train_full.shape"
      ]
    },
    {
      "cell_type": "code",
      "execution_count": 7,
      "id": "7c2387e0",
      "metadata": {
        "colab": {
          "base_uri": "https://localhost:8080/",
          "height": 281
        },
        "id": "7c2387e0",
        "outputId": "edcedafd-1318-4f6d-f1e6-75959882cdd4"
      },
      "outputs": [
        {
          "data": {
            "image/png": "[encoded data removed]",
            "text/plain": [
              "<Figure size 432x288 with 1 Axes>"
            ]
          },
          "metadata": {
            "needs_background": "light"
          },
          "output_type": "display_data"
        }
      ],
      "source": [
        "plt.imshow(X_train_full[0], cmap='gray')\n",
        "plt.title(label=y_train_full[0])\n",
        "plt.show()"
      ]
    },
    {
      "cell_type": "markdown",
      "id": "92d234b5",
      "metadata": {
        "id": "92d234b5"
      },
      "source": [
        "## Train-/Test split & Normalisierung"
      ]
    },
    {
      "cell_type": "code",
      "execution_count": 8,
      "id": "95d0810f",
      "metadata": {
        "id": "95d0810f"
      },
      "outputs": [],
      "source": [
        "X_valid, X_train = X_train_full[:5000]/ 255.0, X_train_full[5000:] / 255.0 #Aufteilung in train und validation set und Normalisierung (0-1) von typ float\n",
        "y_valid, y_train = y_train_full[:5000], y_train_full[5000:]\n",
        "\n",
        "X_test  = X_test/ 255.0\n",
        "\n",
        "#Durch 255 Teilen um Farbwerte zwischen 0-1 zu skalieren"
      ]
    },
    {
      "cell_type": "markdown",
      "id": "1ec047a8",
      "metadata": {
        "id": "1ec047a8"
      },
      "source": [
        "## Modellierung - CNN bauen"
      ]
    },
    {
      "cell_type": "code",
      "execution_count": 19,
      "id": "d6e17f3c",
      "metadata": {
        "id": "d6e17f3c"
      },
      "outputs": [],
      "source": [
        "model = keras.models.Sequential([\n",
        "    keras.Input(shape=[28,28,1]),\n",
        "    keras.layers.Conv2D(64, 7, activation=\"relu\", padding=\"same\"),\n",
        "    keras.layers.MaxPooling2D(2), #each spatial dimension will be divided by factor 2\n",
        "    keras.layers.Conv2D(128, 3, activation=\"relu\", padding=\"same\"),\n",
        "    keras.layers.Conv2D(128,3,activation=\"relu\", padding=\"same\"),\n",
        "    keras.layers.MaxPooling2D(2),\n",
        "    keras.layers.Conv2D(256,3,activation=\"relu\", padding=\"same\"), #common practice to double the number of filters after each pooling layer\n",
        "    keras.layers.Conv2D(256,3,activation=\"relu\", padding=\"same\"),\n",
        "    keras.layers.MaxPooling2D(2),\n",
        "    keras.layers.Flatten(), #dense layer expects 1D array but Conv-layers have 2D array\n",
        "    keras.layers.Dense(128, activation=\"relu\"),\n",
        "    keras.layers.Dropout(0.5), #reducing overfitting\n",
        "    keras.layers.Dense(64, activation=\"relu\"),\n",
        "    keras.layers.Dropout(0.5),\n",
        "    keras.layers.Dense(10, activation=\"softmax\")\n",
        "])"
      ]
    },
    {
      "cell_type": "code",
      "execution_count": 20,
      "id": "05438d77",
      "metadata": {
        "colab": {
          "base_uri": "https://localhost:8080/"
        },
        "id": "05438d77",
        "outputId": "5760081b-6302-4bfa-aa34-db3c7919e00e"
      },
      "outputs": [
        {
          "name": "stdout",
          "output_type": "stream",
          "text": [
            "Model: \"sequential_1\"\n",
            "_________________________________________________________________\n",
            " Layer (type)                Output Shape              Param #   \n",
            "=================================================================\n",
            " conv2d_5 (Conv2D)           (None, 28, 28, 64)        3200      \n",
            "                                                                 \n",
            " max_pooling2d_3 (MaxPooling  (None, 14, 14, 64)       0         \n",
            " 2D)                                                             \n",
            "                                                                 \n",
            " conv2d_6 (Conv2D)           (None, 14, 14, 128)       73856     \n",
            "                                                                 \n",
            " conv2d_7 (Conv2D)           (None, 14, 14, 128)       147584    \n",
            "                                                                 \n",
            " max_pooling2d_4 (MaxPooling  (None, 7, 7, 128)        0         \n",
            " 2D)                                                             \n",
            "                                                                 \n",
            " conv2d_8 (Conv2D)           (None, 7, 7, 256)         295168    \n",
            "                                                                 \n",
            " conv2d_9 (Conv2D)           (None, 7, 7, 256)         590080    \n",
            "                                                                 \n",
            " max_pooling2d_5 (MaxPooling  (None, 3, 3, 256)        0         \n",
            " 2D)                                                             \n",
            "                                                                 \n",
            " flatten_1 (Flatten)         (None, 2304)              0         \n",
            "                                                                 \n",
            " dense_3 (Dense)             (None, 128)               295040    \n",
            "                                                                 \n",
            " dropout_2 (Dropout)         (None, 128)               0         \n",
            "                                                                 \n",
            " dense_4 (Dense)             (None, 64)                8256      \n",
            "                                                                 \n",
            " dropout_3 (Dropout)         (None, 64)                0         \n",
            "                                                                 \n",
            " dense_5 (Dense)             (None, 10)                650       \n",
            "                                                                 \n",
            "=================================================================\n",
            "Total params: 1,413,834\n",
            "Trainable params: 1,413,834\n",
            "Non-trainable params: 0\n",
            "_________________________________________________________________\n"
          ]
        }
      ],
      "source": [
        "model.summary()"
      ]
    },
    {
      "cell_type": "code",
      "execution_count": 21,
      "id": "1cad16b0",
      "metadata": {
        "id": "1cad16b0"
      },
      "outputs": [],
      "source": [
        "model.compile(loss='sparse_categorical_crossentropy', optimizer=\"sgd\",metrics=[\"accuracy\"])"
      ]
    },
    {
      "cell_type": "code",
      "execution_count": 22,
      "id": "26bc7e8e",
      "metadata": {
        "id": "26bc7e8e"
      },
      "outputs": [],
      "source": [
        "X_train = X_train.reshape((-1,28,28,1))\n",
        "X_valid = X_valid.reshape((-1,28,28,1))\n",
        "X_test = X_test.reshape((-1,28,28,1))"
      ]
    },
    {
      "cell_type": "code",
      "execution_count": 23,
      "id": "EFlUi0O2UmZ-",
      "metadata": {
        "id": "EFlUi0O2UmZ-"
      },
      "outputs": [],
      "source": [
        "EPOCHS = 20\n",
        "BATCHSIZE = 32"
      ]
    },
    {
      "cell_type": "code",
      "execution_count": 24,
      "id": "331eb9d6",
      "metadata": {
        "colab": {
          "base_uri": "https://localhost:8080/"
        },
        "id": "331eb9d6",
        "outputId": "a5f56d2a-aef9-4a1b-e8cf-93cc7a5e2541"
      },
      "outputs": [
        {
          "name": "stdout",
          "output_type": "stream",
          "text": [
            "Epoch 1/20\n",
            "1719/1719 [==============================] - 12s 7ms/step - loss: 1.2100 - accuracy: 0.5870 - val_loss: 0.1434 - val_accuracy: 0.9604\n",
            "Epoch 2/20\n",
            "1719/1719 [==============================] - 11s 7ms/step - loss: 0.2756 - accuracy: 0.9210 - val_loss: 0.0790 - val_accuracy: 0.9770\n",
            "Epoch 3/20\n",
            "1719/1719 [==============================] - 12s 7ms/step - loss: 0.1719 - accuracy: 0.9531 - val_loss: 0.0694 - val_accuracy: 0.9820\n",
            "Epoch 4/20\n",
            "1719/1719 [==============================] - 11s 7ms/step - loss: 0.1327 - accuracy: 0.9654 - val_loss: 0.0570 - val_accuracy: 0.9862\n",
            "Epoch 5/20\n",
            "1719/1719 [==============================] - 11s 7ms/step - loss: 0.1098 - accuracy: 0.9713 - val_loss: 0.0520 - val_accuracy: 0.9864\n",
            "Epoch 6/20\n",
            "1719/1719 [==============================] - 12s 7ms/step - loss: 0.0958 - accuracy: 0.9755 - val_loss: 0.0534 - val_accuracy: 0.9864\n",
            "Epoch 7/20\n",
            "1719/1719 [==============================] - 11s 7ms/step - loss: 0.0819 - accuracy: 0.9792 - val_loss: 0.0433 - val_accuracy: 0.9894\n",
            "Epoch 8/20\n",
            "1719/1719 [==============================] - 11s 7ms/step - loss: 0.0706 - accuracy: 0.9819 - val_loss: 0.0438 - val_accuracy: 0.9900\n",
            "Epoch 9/20\n",
            "1719/1719 [==============================] - 12s 7ms/step - loss: 0.0642 - accuracy: 0.9838 - val_loss: 0.0420 - val_accuracy: 0.9908\n",
            "Epoch 10/20\n",
            "1719/1719 [==============================] - 11s 7ms/step - loss: 0.0586 - accuracy: 0.9845 - val_loss: 0.0371 - val_accuracy: 0.9916\n",
            "Epoch 11/20\n",
            "1719/1719 [==============================] - 12s 7ms/step - loss: 0.0521 - accuracy: 0.9864 - val_loss: 0.0456 - val_accuracy: 0.9920\n",
            "Epoch 12/20\n",
            "1719/1719 [==============================] - 12s 7ms/step - loss: 0.0503 - accuracy: 0.9876 - val_loss: 0.0392 - val_accuracy: 0.9914\n",
            "Epoch 13/20\n",
            "1719/1719 [==============================] - 12s 7ms/step - loss: 0.0446 - accuracy: 0.9886 - val_loss: 0.0377 - val_accuracy: 0.9922\n",
            "Epoch 14/20\n",
            "1719/1719 [==============================] - 12s 7ms/step - loss: 0.0415 - accuracy: 0.9893 - val_loss: 0.0395 - val_accuracy: 0.9920\n",
            "Epoch 15/20\n",
            "1719/1719 [==============================] - 12s 7ms/step - loss: 0.0368 - accuracy: 0.9903 - val_loss: 0.0370 - val_accuracy: 0.9916\n",
            "Epoch 16/20\n",
            "1719/1719 [==============================] - 12s 7ms/step - loss: 0.0349 - accuracy: 0.9908 - val_loss: 0.0382 - val_accuracy: 0.9930\n",
            "Epoch 17/20\n",
            "1719/1719 [==============================] - 12s 7ms/step - loss: 0.0325 - accuracy: 0.9915 - val_loss: 0.0361 - val_accuracy: 0.9918\n",
            "Epoch 18/20\n",
            "1719/1719 [==============================] - 11s 7ms/step - loss: 0.0303 - accuracy: 0.9924 - val_loss: 0.0397 - val_accuracy: 0.9930\n",
            "Epoch 19/20\n",
            "1719/1719 [==============================] - 12s 7ms/step - loss: 0.0279 - accuracy: 0.9924 - val_loss: 0.0393 - val_accuracy: 0.9940\n",
            "Epoch 20/20\n",
            "1719/1719 [==============================] - 12s 7ms/step - loss: 0.0256 - accuracy: 0.9935 - val_loss: 0.0335 - val_accuracy: 0.9928\n"
          ]
        }
      ],
      "source": [
        "history = model.fit(X_train,y_train, batch_size=BATCHSIZE, epochs=EPOCHS, validation_data = (X_valid, y_valid))"
      ]
    },
    {
      "cell_type": "code",
      "execution_count": 26,
      "id": "392dc72c",
      "metadata": {
        "colab": {
          "base_uri": "https://localhost:8080/",
          "height": 731
        },
        "id": "392dc72c",
        "outputId": "9ab23795-63d4-4969-8c2f-fd79ae5dae5b"
      },
      "outputs": [
        {
          "data": {
            "image/png": "[encoded data removed]",
            "text/plain": [
              "<Figure size 720x432 with 1 Axes>"
            ]
          },
          "metadata": {
            "needs_background": "light"
          },
          "output_type": "display_data"
        },
        {
          "data": {
            "image/png": "[encoded data removed]",
            "text/plain": [
              "<Figure size 720x432 with 1 Axes>"
            ]
          },
          "metadata": {
            "needs_background": "light"
          },
          "output_type": "display_data"
        }
      ],
      "source": [
        "plot_results(EPOCHS, history)"
      ]
    },
    {
      "cell_type": "code",
      "execution_count": null,
      "id": "J0ArWe_MWJjd",
      "metadata": {
        "id": "J0ArWe_MWJjd"
      },
      "outputs": [],
      "source": []
    }
  ],
  "metadata": {
    "accelerator": "GPU",
    "colab": {
      "name": "Übung_04_CNN's.ipynb",
      "provenance": []
    },
    "gpuClass": "standard",
    "kernelspec": {
      "display_name": "Python 3.9.12 ('tensorflow')",
      "language": "python",
      "name": "python3"
    },
    "language_info": {
      "codemirror_mode": {
        "name": "ipython",
        "version": 3
      },
      "file_extension": ".py",
      "mimetype": "text/x-python",
      "name": "python",
      "nbconvert_exporter": "python",
      "pygments_lexer": "ipython3",
      "version": "3.9.12"
    },
    "vscode": {
      "interpreter": {
        "hash": "a556c98edf2c5a3807e5c547e7b9b4eaf7a34f7f9898c366b34cd41a41f16e53"
      }
    }
  },
  "nbformat": 4,
  "nbformat_minor": 5
}
