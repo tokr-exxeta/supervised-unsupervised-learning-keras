{
 "cells": [
  {
   "cell_type": "markdown",
   "id": "b553940c",
   "metadata": {},
   "source": [
    "## Imports"
   ]
  },
  {
   "cell_type": "code",
   "execution_count": 1,
   "id": "3e6c8ad5",
   "metadata": {},
   "outputs": [],
   "source": [
    "import tensorflow as tf\n",
    "import numpy as np"
   ]
  },
  {
   "cell_type": "markdown",
   "id": "49c40285",
   "metadata": {},
   "source": [
    "Die folgende Übung soll Sie ein bisschen mit dem tensorflow und numpy package vertraut machen. Falls Sie eine Funktion oder Methode nachschauen wollen können Sie im Vorschau Notebook oder direkt bei der tensorflow oder numpy Doku nachschauen\n",
    "tensorflow:https://www.tensorflow.org/api_docs/python/tf/all_symbols\n",
    "numpy: https://numpy.org/doc/stable/reference/generated/numpy.sum.html"
   ]
  },
  {
   "cell_type": "markdown",
   "id": "932a701a",
   "metadata": {},
   "source": [
    "### Überführen Sie folgende Tabelle in einen Tensor. Achten Sie dabei auf den geeigneten Datentyp"
   ]
  },
  {
   "cell_type": "markdown",
   "id": "9e1c99a8",
   "metadata": {},
   "source": [
    "![title](../Bilder/Tabelle1.png)"
   ]
  },
  {
   "cell_type": "code",
   "execution_count": 8,
   "id": "162f26cf",
   "metadata": {},
   "outputs": [],
   "source": [
    "liste = tf.constant([[0.,5.,6.52],[1.,2.,4.30],[2.,3.,2.15],[3.,4.,1.75],[4.,1.,0.5]])"
   ]
  },
  {
   "cell_type": "code",
   "execution_count": 9,
   "id": "005c238e",
   "metadata": {},
   "outputs": [
    {
     "data": {
      "text/plain": [
       "<tf.Tensor: shape=(5, 3), dtype=float32, numpy=\n",
       "array([[0.  , 5.  , 6.52],\n",
       "       [1.  , 2.  , 4.3 ],\n",
       "       [2.  , 3.  , 2.15],\n",
       "       [3.  , 4.  , 1.75],\n",
       "       [4.  , 1.  , 0.5 ]], dtype=float32)>"
      ]
     },
     "execution_count": 9,
     "metadata": {},
     "output_type": "execute_result"
    }
   ],
   "source": [
    "liste"
   ]
  },
  {
   "cell_type": "markdown",
   "id": "dc44bc0e",
   "metadata": {},
   "source": [
    "### Sie wollen nun den Gesamtumsatz aller Artikel Ihrer Liste berechnen. Nutzen Sie dafür entweder tensorflow oder numpy-Funktionalitäten"
   ]
  },
  {
   "cell_type": "code",
   "execution_count": 12,
   "id": "1e92c4df",
   "metadata": {},
   "outputs": [
    {
     "data": {
      "text/plain": [
       "55.15"
      ]
     },
     "execution_count": 12,
     "metadata": {},
     "output_type": "execute_result"
    }
   ],
   "source": [
    "round(np.sum((liste[:,1] * liste[:,2]).numpy()),2)"
   ]
  },
  {
   "cell_type": "markdown",
   "id": "6cda9b8a",
   "metadata": {},
   "source": [
    "### Ihr Preis ist nun um das doppelte gestiegen. Verrechnen Sie den Preisanstieg in Ihrem zuvor angelegten Tensor. Was ist nun das Problem?"
   ]
  },
  {
   "cell_type": "code",
   "execution_count": 14,
   "id": "c9955276",
   "metadata": {},
   "outputs": [
    {
     "data": {
      "text/plain": [
       "<tf.Tensor: shape=(5,), dtype=float32, numpy=array([13.04,  8.6 ,  4.3 ,  3.5 ,  1.  ], dtype=float32)>"
      ]
     },
     "execution_count": 14,
     "metadata": {},
     "output_type": "execute_result"
    }
   ],
   "source": [
    "liste[:,2]*2"
   ]
  },
  {
   "cell_type": "code",
   "execution_count": null,
   "id": "5f90ac3e",
   "metadata": {},
   "outputs": [],
   "source": [
    "liste[:,2] = liste[:,2]*2 ##nicht möglich, deswegen tf.Variable nötig"
   ]
  },
  {
   "cell_type": "code",
   "execution_count": 15,
   "id": "fe3ff004",
   "metadata": {},
   "outputs": [],
   "source": [
    "new_list = tf.Variable(liste)"
   ]
  },
  {
   "cell_type": "code",
   "execution_count": 16,
   "id": "6e68fee2",
   "metadata": {},
   "outputs": [
    {
     "data": {
      "text/plain": [
       "<tf.Variable 'UnreadVariable' shape=(5, 3) dtype=float32, numpy=\n",
       "array([[ 0.  ,  5.  , 13.04],\n",
       "       [ 1.  ,  2.  ,  8.6 ],\n",
       "       [ 2.  ,  3.  ,  4.3 ],\n",
       "       [ 3.  ,  4.  ,  3.5 ],\n",
       "       [ 4.  ,  1.  ,  1.  ]], dtype=float32)>"
      ]
     },
     "execution_count": 16,
     "metadata": {},
     "output_type": "execute_result"
    }
   ],
   "source": [
    "new_list[:,2].assign(new_list[:,2]*2)"
   ]
  },
  {
   "cell_type": "code",
   "execution_count": 17,
   "id": "e61736a4",
   "metadata": {},
   "outputs": [
    {
     "data": {
      "text/plain": [
       "<tf.Variable 'Variable:0' shape=(5, 3) dtype=float32, numpy=\n",
       "array([[ 0.  ,  5.  , 13.04],\n",
       "       [ 1.  ,  2.  ,  8.6 ],\n",
       "       [ 2.  ,  3.  ,  4.3 ],\n",
       "       [ 3.  ,  4.  ,  3.5 ],\n",
       "       [ 4.  ,  1.  ,  1.  ]], dtype=float32)>"
      ]
     },
     "execution_count": 17,
     "metadata": {},
     "output_type": "execute_result"
    }
   ],
   "source": [
    "new_list"
   ]
  }
 ],
 "metadata": {
  "kernelspec": {
   "display_name": "Python 3",
   "language": "python",
   "name": "python3"
  },
  "language_info": {
   "codemirror_mode": {
    "name": "ipython",
    "version": 3
   },
   "file_extension": ".py",
   "mimetype": "text/x-python",
   "name": "python",
   "nbconvert_exporter": "python",
   "pygments_lexer": "ipython3",
   "version": "3.8.8"
  }
 },
 "nbformat": 4,
 "nbformat_minor": 5
}
