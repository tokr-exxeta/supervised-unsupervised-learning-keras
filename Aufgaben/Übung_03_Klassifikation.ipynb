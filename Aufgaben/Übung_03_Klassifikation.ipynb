{
 "cells": [
  {
   "cell_type": "markdown",
   "id": "3db00b14",
   "metadata": {},
   "source": [
    "## Imports"
   ]
  },
  {
   "cell_type": "code",
   "execution_count": null,
   "id": "06a47f54",
   "metadata": {},
   "outputs": [],
   "source": [
    "import tensorflow.keras as keras\n",
    "import pandas as pd\n",
    "import matplotlib as mpl\n",
    "import matplotlib.pyplot as plt\n",
    "import seaborn as sns\n",
    "from sklearn.model_selection import train_test_split\n",
    "from sklearn.preprocessing import StandardScaler, LabelEncoder"
   ]
  },
  {
   "cell_type": "code",
   "execution_count": null,
   "id": "728c0219",
   "metadata": {},
   "outputs": [],
   "source": [
    "%matplotlib inline\n",
    "plt.rc('font', size=16)\n",
    "mpl.rcParams['figure.facecolor'] = 'white'"
   ]
  },
  {
   "cell_type": "code",
   "execution_count": null,
   "id": "a69cdcad",
   "metadata": {},
   "outputs": [],
   "source": [
    "def plot_results(epochs, history, metric='accuracy'):\n",
    "    plt.figure(figsize=(10, 6))\n",
    "    sns.lineplot(x=range(epochs), y=history.history['loss'], label='train_loss')\n",
    "    sns.lineplot(x=range(epochs), y=history.history['val_loss'], label='val_loss')\n",
    "    plt.show()\n",
    "\n",
    "    plt.figure(figsize=(10, 6))\n",
    "    sns.lineplot(x=range(epochs), y=history.history[metric], label=f'Train {metric}')\n",
    "    sns.lineplot(x=range(epochs), y=history.history[f'val_{metric}'], label=f'Validation {metric}')\n",
    "    plt.show()"
   ]
  },
  {
   "cell_type": "markdown",
   "id": "ad8d49fd",
   "metadata": {},
   "source": [
    "## Daten einlesen"
   ]
  },
  {
   "cell_type": "code",
   "execution_count": null,
   "id": "6c6d8f10",
   "metadata": {},
   "outputs": [],
   "source": [
    "iris_df = sns.load_dataset(\"iris\")"
   ]
  },
  {
   "cell_type": "code",
   "execution_count": null,
   "id": "33050af3",
   "metadata": {},
   "outputs": [],
   "source": [
    "iris_df"
   ]
  },
  {
   "cell_type": "code",
   "execution_count": null,
   "id": "1d64103b",
   "metadata": {},
   "outputs": [],
   "source": [
    "plt.figure(figsize=(10, 6))\n",
    "sns.scatterplot(data=iris_df, x=\"petal_length\", y=\"petal_width\", hue=\"species\")\n",
    "plt.show()"
   ]
  },
  {
   "cell_type": "markdown",
   "id": "b318b6af",
   "metadata": {},
   "source": [
    "Führen Sie einen Train-Test Split aus. Übernehmen Sie hierfür species als target und fügen Sie die restlichen Spalten als Features ein."
   ]
  },
  {
   "cell_type": "code",
   "execution_count": null,
   "id": "ec10d459",
   "metadata": {},
   "outputs": [],
   "source": [
    "X = # Code\n",
    "y = # Code"
   ]
  },
  {
   "cell_type": "markdown",
   "id": "70702c19",
   "metadata": {},
   "source": [
    "Führen Sie nun ein LabelEncoding für Ihr Target und eine Z-Transformation (StandardScaler) für Ihre Features durch."
   ]
  },
  {
   "cell_type": "code",
   "execution_count": null,
   "id": "d8c6d26c",
   "metadata": {},
   "outputs": [],
   "source": [
    "# Code"
   ]
  },
  {
   "cell_type": "code",
   "execution_count": null,
   "id": "5e86c4c8",
   "metadata": {},
   "outputs": [],
   "source": [
    "# Code"
   ]
  },
  {
   "cell_type": "code",
   "execution_count": null,
   "id": "543dc136",
   "metadata": {},
   "outputs": [],
   "source": [
    "X_train, X_test, y_train, y_test = train_test_split(X,y,test_size=0.2, random_state=5)"
   ]
  },
  {
   "cell_type": "markdown",
   "id": "3da417d5",
   "metadata": {},
   "source": [
    "Bilden Sie nun das Sequentielle Modell. Wie vorher können Sie gerne den Code im Vorschau-Notebook nachschauen. Achten Sie auf die Änderung im Output-Layer (activation='softmax' statt 'linear'). Versuchen Sie die Anzahl Neuronen und Layer zu ändern bis Sie auf eine Accuracy über 80% kommen."
   ]
  },
  {
   "cell_type": "code",
   "execution_count": null,
   "id": "7961098d",
   "metadata": {},
   "outputs": [],
   "source": [
    "model = # Code"
   ]
  },
  {
   "cell_type": "code",
   "execution_count": null,
   "id": "21d6da3f",
   "metadata": {},
   "outputs": [],
   "source": [
    "BATCHSIZE = 32\n",
    "EPOCHS = 30\n",
    "LR = 0.01"
   ]
  },
  {
   "cell_type": "code",
   "execution_count": null,
   "id": "3ddd1743",
   "metadata": {},
   "outputs": [],
   "source": [
    "model.compile(loss='sparse_categorical_crossentropy', optimizer=keras.optimizers.SGD(learning_rate=LR), metrics=[\"accuracy\"])"
   ]
  },
  {
   "cell_type": "code",
   "execution_count": null,
   "id": "dfb7ca82",
   "metadata": {},
   "outputs": [],
   "source": [
    "history = model.fit(X_train,y_train, batch_size=BATCHSIZE, epochs=EPOCHS, validation_split=0.2)"
   ]
  },
  {
   "cell_type": "code",
   "execution_count": null,
   "id": "34f9a728",
   "metadata": {},
   "outputs": [],
   "source": [
    "plot_results(EPOCHS, history)"
   ]
  },
  {
   "cell_type": "code",
   "execution_count": null,
   "id": "17432736",
   "metadata": {},
   "outputs": [],
   "source": [
    "model.evaluate(X_test,y_test)"
   ]
  },
  {
   "cell_type": "code",
   "execution_count": null,
   "id": "2ef277f2",
   "metadata": {},
   "outputs": [],
   "source": []
  }
 ],
 "metadata": {
  "kernelspec": {
   "display_name": "Python 3.9.12 ('tensorflow')",
   "language": "python",
   "name": "python3"
  },
  "language_info": {
   "codemirror_mode": {
    "name": "ipython",
    "version": 3
   },
   "file_extension": ".py",
   "mimetype": "text/x-python",
   "name": "python",
   "nbconvert_exporter": "python",
   "pygments_lexer": "ipython3",
   "version": "3.9.12"
  },
  "vscode": {
   "interpreter": {
    "hash": "a556c98edf2c5a3807e5c547e7b9b4eaf7a34f7f9898c366b34cd41a41f16e53"
   }
  }
 },
 "nbformat": 4,
 "nbformat_minor": 5
}
